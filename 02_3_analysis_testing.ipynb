{
 "cells": [
  {
   "cell_type": "code",
   "execution_count": 24,
   "metadata": {},
   "outputs": [],
   "source": [
    "import pickle\n",
    "import numpy as np\n",
    "import pandas as pd\n",
    "from tqdm import tqdm\n",
    "from pathlib import Path \n",
    "from settings import settings\n",
    "from scipy.stats import multivariate_normal\n",
    "from statsmodels.stats.multitest import multipletests"
   ]
  },
  {
   "cell_type": "markdown",
   "metadata": {},
   "source": [
    "## Define Parameter"
   ]
  },
  {
   "cell_type": "code",
   "execution_count": 25,
   "metadata": {},
   "outputs": [],
   "source": [
    "data_path = Path(\"result\")"
   ]
  },
  {
   "cell_type": "code",
   "execution_count": 26,
   "metadata": {},
   "outputs": [],
   "source": [
    "with open(data_path / \"eb_est.pkl\", \"rb\") as f:\n",
    "    eb_est = pickle.load(f)"
   ]
  },
  {
   "cell_type": "markdown",
   "metadata": {},
   "source": [
    "## FDR(False Discover Rate) Testing"
   ]
  },
  {
   "cell_type": "code",
   "execution_count": 27,
   "metadata": {},
   "outputs": [],
   "source": [
    "def fdr_sim(t_low, a_vec, a_cov, n_sim=10000, seed=1):\n",
    "    np.random.seed(seed) \n",
    "    t_all = a_vec / np.sqrt(np.diag(a_cov)) \n",
    "\n",
    "    t_steps = np.sort(t_all[t_all > t_low])\n",
    "    t_steps = t_steps[:-1]            \n",
    "\n",
    "    sims = multivariate_normal.rvs(mean=a_vec, cov=a_cov, size=n_sim) \n",
    "    results = []\n",
    "    for t in tqdm(t_steps):\n",
    "        # Significant alphas under t-cutoff\n",
    "        sig = (t_all >= t)\n",
    "        sims_fdr = np.mean(np.sign(sims[:, sig]) != np.sign(np.tile(a_vec[sig].values, (n_sim, 1))), axis=1) \n",
    "\n",
    "        fdr = np.mean(sims_fdr)\n",
    "        fwr = np.mean(sims_fdr > 0)\n",
    "\n",
    "        results.append({\n",
    "                \"t_cutoff\": t,\n",
    "                \"n_sig\": np.sum(sig),\n",
    "                \"fdr\": fdr,\n",
    "                \"fwr\": fwr\n",
    "            })\n",
    "\n",
    "    return pd.DataFrame(results)"
   ]
  },
  {
   "cell_type": "code",
   "execution_count": 28,
   "metadata": {},
   "outputs": [
    {
     "name": "stderr",
     "output_type": "stream",
     "text": [
      "100%|██████████| 141/141 [00:00<00:00, 167.55it/s]\n"
     ]
    }
   ],
   "source": [
    "model_fdr = fdr_sim(\n",
    "    t_low = 0,\n",
    "    a_vec=eb_est['us']['factor_mean'].copy(),\n",
    "    a_cov=eb_est['us']['factor_cov'].copy(),\n",
    "    n_sim=10000,\n",
    "    seed=settings['seed'],\n",
    ")"
   ]
  },
  {
   "cell_type": "markdown",
   "metadata": {},
   "source": [
    "## Multiple Testing"
   ]
  },
  {
   "cell_type": "code",
   "execution_count": 29,
   "metadata": {},
   "outputs": [
    {
     "ename": "KeyError",
     "evalue": "'all'",
     "output_type": "error",
     "traceback": [
      "\u001b[0;31m---------------------------------------------------------------------------\u001b[0m",
      "\u001b[0;31mKeyError\u001b[0m                                  Traceback (most recent call last)",
      "Cell \u001b[0;32mIn[29], line 1\u001b[0m\n\u001b[0;32m----> 1\u001b[0m eb_all \u001b[38;5;241m=\u001b[39m eb_est[\u001b[38;5;124m\"\u001b[39m\u001b[38;5;124mall\u001b[39m\u001b[38;5;124m\"\u001b[39m]\n",
      "\u001b[0;31mKeyError\u001b[0m: 'all'"
     ]
    }
   ],
   "source": [
    "eb_all = eb_est[\"all\"]"
   ]
  },
  {
   "cell_type": "code",
   "execution_count": 30,
   "metadata": {},
   "outputs": [
    {
     "data": {
      "text/plain": [
       "dict_keys(['us', 'developed', 'emerging', 'world', 'world_ex_us', 'us_mega', 'us_large', 'us_small', 'us_micro', 'us_nano'])"
      ]
     },
     "execution_count": 30,
     "metadata": {},
     "output_type": "execute_result"
    }
   ],
   "source": [
    "eb_est.keys()"
   ]
  },
  {
   "cell_type": "code",
   "execution_count": null,
   "metadata": {},
   "outputs": [],
   "source": []
  }
 ],
 "metadata": {
  "kernelspec": {
   "display_name": "finance",
   "language": "python",
   "name": "python3"
  },
  "language_info": {
   "codemirror_mode": {
    "name": "ipython",
    "version": 3
   },
   "file_extension": ".py",
   "mimetype": "text/x-python",
   "name": "python",
   "nbconvert_exporter": "python",
   "pygments_lexer": "ipython3",
   "version": "3.12.3"
  }
 },
 "nbformat": 4,
 "nbformat_minor": 2
}
