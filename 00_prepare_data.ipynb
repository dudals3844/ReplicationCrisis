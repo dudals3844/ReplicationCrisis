{
 "cells": [
  {
   "cell_type": "code",
   "execution_count": 1,
   "metadata": {},
   "outputs": [],
   "source": [
    "import numpy as np\n",
    "import pandas as pd\n",
    "from tqdm import tqdm\n",
    "from pathlib import Path\n",
    "from functools import reduce\n",
    "from settings import settings\n",
    "from joblib import Parallel, delayed"
   ]
  },
  {
   "cell_type": "markdown",
   "metadata": {},
   "source": [
    "## Parameter Setting을 정의"
   ]
  },
  {
   "cell_type": "code",
   "execution_count": 2,
   "metadata": {},
   "outputs": [],
   "source": [
    "save_path = Path(\"result\")\n",
    "data_path = Path(\"Data\")"
   ]
  },
  {
   "cell_type": "markdown",
   "metadata": {},
   "source": [
    "# Market Return\n",
    "\n",
    "**변수 설명**\n",
    "- `excntry`: ISO Alpha-3 코드로 표시된 증권이 상장된 국가.\n",
    "- `eom`: 수익률을 계산하는 데 사용된 월의 월말.\n",
    "- `characteristic`: 특성의 이름, Jensen, Kelly, Pedersen (2022)의 표 J.1을 참조.\n",
    "- `region`: 포함된 팩터들의 지역/MSCI 국가 개발 상태.\n",
    "- `size_grp`: 순위 가중 팩터를 생성하는 데 사용된 사이즈 그룹.\n",
    "- `pf`: 포트폴리오 식별자.\n",
    "- `n`: 포트폴리오 내의 총 주식 수.\n",
    "- `n_stocks`: 롱(long) 및 숏(short) 포트폴리오 내의 총 주식 수.\n",
    "- `n_stocks_min`: 롱 및 숏 포트폴리오 내 최소 주식 수. 예를 들어, 롱 포트폴리오에 10개의 주식이 있고 숏 포트폴리오에 40개의 주식이 있으면, `n_stocks=50`이고 `n_stocks_min=10`.\n",
    "- `n_countries`: 지역 포트폴리오에 포함된 국가 수.\n",
    "- `signal` (pfs.csv): 포트폴리오 내 중간 특성 값.\n",
    "- `signal` (hml.csv, lms.csv): 롱 및 숏 포트폴리오 내 중간 특성의 차이.\n",
    "- `signal_weighted`: 순위 가중 신호.\n",
    "- `ret_ew`: 동등 가중 수익률.\n",
    "- `ret_vw`: 가치 가중 수익률.\n",
    "- `ret_vw_cap`: Jensen, Kelly, Pedersen (2022)에서 사용된 제한된 가치 가중 수익률.\n",
    "- `ret_weighted`: 순위 가중 수익률.\n",
    "- `me_lag1`: 월 초 기준으로 한 국가 내 총 시장 자본 규모.\n",
    "- `dolvol_lag1`: 전월에 국가 내에서 거래된 총 거래 금액.\n",
    "- `stocks`: 시장 포트폴리오에 포함된 주식.\n",
    "- `mkt_vw_lcl`: 현지 통화로 표시된 가치 가중 시장 수익률.\n",
    "- `mkt_ew_lcl`: 현지 통화로 표시된 동등 가중 시장 수익률.\n",
    "- `mkt_vw`: USD로 표시된 가치 가중 시장 수익률.\n",
    "- `mkt_ew`: USD로 표시된 동등 가중 시장 수익률.\n",
    "- `mkt_ew_exc`: USD로 표시된 동등 가중 초과 시장 수익률.\n",
    "- `mkt_vw_exc` (market_return.csv): USD로 표시된 가치 가중 초과 시장 수익률.\n",
    "- `mkt_vw_exc` (Regional Factors): 지역 포트폴리오에 포함된 국가들의 USD로 표시된 가치 가중 평균 초과 시장 수익률."
   ]
  },
  {
   "cell_type": "code",
   "execution_count": 3,
   "metadata": {},
   "outputs": [],
   "source": [
    "market_returns = pd.read_csv(data_path / \"market_returns.csv\")"
   ]
  },
  {
   "cell_type": "code",
   "execution_count": 4,
   "metadata": {},
   "outputs": [],
   "source": [
    "market_returns[\"eom\"] = pd.to_datetime(market_returns[\"eom\"])"
   ]
  },
  {
   "cell_type": "code",
   "execution_count": 5,
   "metadata": {},
   "outputs": [
    {
     "data": {
      "text/html": [
       "<div>\n",
       "<style scoped>\n",
       "    .dataframe tbody tr th:only-of-type {\n",
       "        vertical-align: middle;\n",
       "    }\n",
       "\n",
       "    .dataframe tbody tr th {\n",
       "        vertical-align: top;\n",
       "    }\n",
       "\n",
       "    .dataframe thead th {\n",
       "        text-align: right;\n",
       "    }\n",
       "</style>\n",
       "<table border=\"1\" class=\"dataframe\">\n",
       "  <thead>\n",
       "    <tr style=\"text-align: right;\">\n",
       "      <th></th>\n",
       "      <th>excntry</th>\n",
       "      <th>eom</th>\n",
       "      <th>stocks</th>\n",
       "      <th>me_lag1</th>\n",
       "      <th>dolvol_lag1</th>\n",
       "      <th>mkt_vw_lcl</th>\n",
       "      <th>mkt_ew_lcl</th>\n",
       "      <th>mkt_vw</th>\n",
       "      <th>mkt_ew</th>\n",
       "      <th>mkt_vw_exc</th>\n",
       "      <th>mkt_ew_exc</th>\n",
       "    </tr>\n",
       "  </thead>\n",
       "  <tbody>\n",
       "    <tr>\n",
       "      <th>0</th>\n",
       "      <td>ARE</td>\n",
       "      <td>2001-06-30</td>\n",
       "      <td>6</td>\n",
       "      <td>1065.163770</td>\n",
       "      <td>NaN</td>\n",
       "      <td>-0.022455</td>\n",
       "      <td>-0.016860</td>\n",
       "      <td>-0.022463</td>\n",
       "      <td>-0.016856</td>\n",
       "      <td>-0.025241</td>\n",
       "      <td>-0.019634</td>\n",
       "    </tr>\n",
       "    <tr>\n",
       "      <th>1</th>\n",
       "      <td>ARE</td>\n",
       "      <td>2001-07-31</td>\n",
       "      <td>5</td>\n",
       "      <td>988.147326</td>\n",
       "      <td>NaN</td>\n",
       "      <td>0.024031</td>\n",
       "      <td>0.015455</td>\n",
       "      <td>0.024070</td>\n",
       "      <td>0.015487</td>\n",
       "      <td>0.021071</td>\n",
       "      <td>0.012488</td>\n",
       "    </tr>\n",
       "    <tr>\n",
       "      <th>2</th>\n",
       "      <td>ARE</td>\n",
       "      <td>2001-08-31</td>\n",
       "      <td>4</td>\n",
       "      <td>788.460280</td>\n",
       "      <td>NaN</td>\n",
       "      <td>0.031355</td>\n",
       "      <td>0.023716</td>\n",
       "      <td>0.031309</td>\n",
       "      <td>0.023671</td>\n",
       "      <td>0.028313</td>\n",
       "      <td>0.020675</td>\n",
       "    </tr>\n",
       "    <tr>\n",
       "      <th>3</th>\n",
       "      <td>ARE</td>\n",
       "      <td>2001-09-30</td>\n",
       "      <td>4</td>\n",
       "      <td>813.146492</td>\n",
       "      <td>NaN</td>\n",
       "      <td>0.026886</td>\n",
       "      <td>0.014666</td>\n",
       "      <td>0.026895</td>\n",
       "      <td>0.014677</td>\n",
       "      <td>0.024165</td>\n",
       "      <td>0.011947</td>\n",
       "    </tr>\n",
       "    <tr>\n",
       "      <th>4</th>\n",
       "      <td>ARE</td>\n",
       "      <td>2001-10-31</td>\n",
       "      <td>5</td>\n",
       "      <td>889.469208</td>\n",
       "      <td>NaN</td>\n",
       "      <td>-0.058416</td>\n",
       "      <td>-0.037733</td>\n",
       "      <td>-0.058421</td>\n",
       "      <td>-0.037739</td>\n",
       "      <td>-0.060575</td>\n",
       "      <td>-0.039893</td>\n",
       "    </tr>\n",
       "  </tbody>\n",
       "</table>\n",
       "</div>"
      ],
      "text/plain": [
       "  excntry        eom  stocks      me_lag1  dolvol_lag1  mkt_vw_lcl  \\\n",
       "0     ARE 2001-06-30       6  1065.163770          NaN   -0.022455   \n",
       "1     ARE 2001-07-31       5   988.147326          NaN    0.024031   \n",
       "2     ARE 2001-08-31       4   788.460280          NaN    0.031355   \n",
       "3     ARE 2001-09-30       4   813.146492          NaN    0.026886   \n",
       "4     ARE 2001-10-31       5   889.469208          NaN   -0.058416   \n",
       "\n",
       "   mkt_ew_lcl    mkt_vw    mkt_ew  mkt_vw_exc  mkt_ew_exc  \n",
       "0   -0.016860 -0.022463 -0.016856   -0.025241   -0.019634  \n",
       "1    0.015455  0.024070  0.015487    0.021071    0.012488  \n",
       "2    0.023716  0.031309  0.023671    0.028313    0.020675  \n",
       "3    0.014666  0.026895  0.014677    0.024165    0.011947  \n",
       "4   -0.037733 -0.058421 -0.037739   -0.060575   -0.039893  "
      ]
     },
     "execution_count": 5,
     "metadata": {},
     "output_type": "execute_result"
    }
   ],
   "source": [
    "market_returns.head()"
   ]
  },
  {
   "cell_type": "markdown",
   "metadata": {},
   "source": [
    "**예상대로 market return은 Long-Only Market Return이다.**"
   ]
  },
  {
   "cell_type": "code",
   "execution_count": 7,
   "metadata": {},
   "outputs": [
    {
     "data": {
      "text/plain": [
       "<Axes: xlabel='eom'>"
      ]
     },
     "execution_count": 7,
     "metadata": {},
     "output_type": "execute_result"
    },
    {
     "data": {
      "image/png": "[encoded data removed]",
      "text/plain": [
       "<Figure size 640x480 with 1 Axes>"
      ]
     },
     "metadata": {},
     "output_type": "display_data"
    }
   ],
   "source": [
    "test_return = (\n",
    "    market_returns[market_returns[\"excntry\"] == \"USA\"]\n",
    "    .loc[:, [\"eom\", \"mkt_vw_exc\"]]\n",
    "    .set_index(\"eom\")\n",
    ")\n",
    "test_return.add(1).cumprod().plot(logy=True)"
   ]
  },
  {
   "cell_type": "code",
   "execution_count": 7,
   "metadata": {},
   "outputs": [],
   "source": [
    "market_returns = market_returns[\n",
    "    (market_returns[\"eom\"] >= settings[\"start_date\"])\n",
    "    & (market_returns[\"eom\"] <= settings[\"end_date\"])\n",
    "    &\n",
    "    # 데이터 문제로 제외할 국가들\n",
    "    (~market_returns[\"excntry\"].isin(settings[\"country_excl\"]))\n",
    "    & ~(\n",
    "        (market_returns[\"excntry\"] == \"PER\")\n",
    "        & (market_returns[\"eom\"] == pd.Timestamp(\"1992-01-31\"))\n",
    "        & (market_returns[\"mkt_vw_exc\"] >= 8900)\n",
    "    )\n",
    "    & ~(\n",
    "        (market_returns[\"excntry\"] == \"VEN\")\n",
    "        & (market_returns[\"eom\"] == pd.Timestamp(\"2018-02-28\"))\n",
    "        & (market_returns[\"mkt_vw_exc\"] < -1)\n",
    "    )\n",
    "]"
   ]
  },
  {
   "cell_type": "markdown",
   "metadata": {},
   "source": [
    "## Labels"
   ]
  },
  {
   "cell_type": "code",
   "execution_count": 8,
   "metadata": {},
   "outputs": [],
   "source": [
    "char_info = pd.read_excel(\n",
    "    \"Factor Details.xlsx\", sheet_name=\"details\", usecols=\"A:N\"\n",
    ").dropna(subset=[\"abr_jkp\"])"
   ]
  },
  {
   "cell_type": "code",
   "execution_count": null,
   "metadata": {},
   "outputs": [],
   "source": [
    "raise Exception()"
   ]
  },
  {
   "cell_type": "code",
   "execution_count": null,
   "metadata": {},
   "outputs": [],
   "source": [
    "char_info = char_info[[\"abr_jkp\", \"direction\", \"in-sample period\", \"group\"]].rename(\n",
    "    columns={\n",
    "        \"abr_jkp\": \"characteristic\",\n",
    "        \"in-sample period\": \"date_range\",\n",
    "        \"group\": \"hxz_group\",\n",
    "    }\n",
    ")\n",
    "char_info[\"direction\"] = char_info[\"direction\"].astype(int)\n",
    "char_info[\"sample_start\"] = char_info[\"date_range\"].str.extract(r\"(^\\d+)\").astype(int)\n",
    "char_info[\"sample_end\"] = char_info[\"date_range\"].str.extract(r\"(\\d+$)\").astype(int)\n",
    "# 각종 요인들 정의\n",
    "base_chars = char_info[\"characteristic\"].tolist()"
   ]
  },
  {
   "cell_type": "markdown",
   "metadata": {},
   "source": [
    "# Country Classification"
   ]
  },
  {
   "cell_type": "code",
   "execution_count": null,
   "metadata": {},
   "outputs": [],
   "source": [
    "country_classification = pd.read_excel(\n",
    "    \"Country Classification.xlsx\", sheet_name=\"countries\", usecols=\"A:C\"\n",
    ").dropna(subset=[\"excntry\"])"
   ]
  },
  {
   "cell_type": "code",
   "execution_count": null,
   "metadata": {},
   "outputs": [
    {
     "data": {
      "text/html": [
       "<div>\n",
       "<style scoped>\n",
       "    .dataframe tbody tr th:only-of-type {\n",
       "        vertical-align: middle;\n",
       "    }\n",
       "\n",
       "    .dataframe tbody tr th {\n",
       "        vertical-align: top;\n",
       "    }\n",
       "\n",
       "    .dataframe thead th {\n",
       "        text-align: right;\n",
       "    }\n",
       "</style>\n",
       "<table border=\"1\" class=\"dataframe\">\n",
       "  <thead>\n",
       "    <tr style=\"text-align: right;\">\n",
       "      <th></th>\n",
       "      <th>excntry</th>\n",
       "      <th>msci_development</th>\n",
       "      <th>region</th>\n",
       "    </tr>\n",
       "  </thead>\n",
       "  <tbody>\n",
       "    <tr>\n",
       "      <th>0</th>\n",
       "      <td>USA</td>\n",
       "      <td>developed</td>\n",
       "      <td>north america</td>\n",
       "    </tr>\n",
       "    <tr>\n",
       "      <th>1</th>\n",
       "      <td>CHN</td>\n",
       "      <td>emerging</td>\n",
       "      <td>asia</td>\n",
       "    </tr>\n",
       "    <tr>\n",
       "      <th>2</th>\n",
       "      <td>JPN</td>\n",
       "      <td>developed</td>\n",
       "      <td>asia</td>\n",
       "    </tr>\n",
       "    <tr>\n",
       "      <th>3</th>\n",
       "      <td>HKG</td>\n",
       "      <td>developed</td>\n",
       "      <td>asia</td>\n",
       "    </tr>\n",
       "    <tr>\n",
       "      <th>4</th>\n",
       "      <td>GBR</td>\n",
       "      <td>developed</td>\n",
       "      <td>europe</td>\n",
       "    </tr>\n",
       "  </tbody>\n",
       "</table>\n",
       "</div>"
      ],
      "text/plain": [
       "  excntry msci_development         region\n",
       "0     USA        developed  north america\n",
       "1     CHN         emerging           asia\n",
       "2     JPN        developed           asia\n",
       "3     HKG        developed           asia\n",
       "4     GBR        developed         europe"
      ]
     },
     "execution_count": 11,
     "metadata": {},
     "output_type": "execute_result"
    }
   ],
   "source": [
    "country_classification.head()"
   ]
  },
  {
   "cell_type": "markdown",
   "metadata": {},
   "source": [
    "## Regions"
   ]
  },
  {
   "cell_type": "code",
   "execution_count": null,
   "metadata": {},
   "outputs": [],
   "source": [
    "region_info = pd.DataFrame(\n",
    "    {\n",
    "        \"name\": [\"us\", \"developed\", \"emerging\", \"frontier\", \"world\", \"world_ex_us\"],\n",
    "        \"country_codes\": [\n",
    "            [\"USA\"],\n",
    "            country_classification[\n",
    "                country_classification[\"msci_development\"] == \"developed\"\n",
    "            ][\"excntry\"].tolist(),\n",
    "            country_classification[\n",
    "                country_classification[\"msci_development\"] == \"emerging\"\n",
    "            ][\"excntry\"].tolist(),\n",
    "            country_classification[\n",
    "                country_classification[\"msci_development\"] == \"frontier\"\n",
    "            ][\"excntry\"].tolist(),\n",
    "            country_classification[\"excntry\"].tolist(),\n",
    "            country_classification[country_classification[\"excntry\"] != \"USA\"][\n",
    "                \"excntry\"\n",
    "            ].tolist(),\n",
    "        ],\n",
    "        \"countries_min\": [1] + [settings[\"countries_min\"]] * 3 + [1, 3],\n",
    "    }\n",
    ")"
   ]
  },
  {
   "cell_type": "code",
   "execution_count": null,
   "metadata": {},
   "outputs": [],
   "source": [
    "region_info = region_info.set_index(\"name\").to_dict(\"index\")"
   ]
  },
  {
   "cell_type": "code",
   "execution_count": null,
   "metadata": {},
   "outputs": [
    {
     "data": {
      "text/plain": [
       "dict_keys(['us', 'developed', 'emerging', 'frontier', 'world', 'world_ex_us'])"
      ]
     },
     "execution_count": 14,
     "metadata": {},
     "output_type": "execute_result"
    }
   ],
   "source": [
    "region_info.keys()"
   ]
  },
  {
   "cell_type": "markdown",
   "metadata": {},
   "source": [
    "## HML"
   ]
  },
  {
   "cell_type": "code",
   "execution_count": null,
   "metadata": {},
   "outputs": [],
   "source": [
    "hml = pd.read_csv(data_path / \"hml.csv\")\n",
    "hml[\"eom\"] = pd.to_datetime(hml[\"eom\"], format=\"%Y-%m-%d\")"
   ]
  },
  {
   "cell_type": "markdown",
   "metadata": {},
   "source": [
    "### Choose weighting"
   ]
  },
  {
   "cell_type": "code",
   "execution_count": null,
   "metadata": {},
   "outputs": [],
   "source": [
    "# 나라별 portfolio weighting method 정한 것을 ret column으로 사용\n",
    "hml_usa = hml[hml[\"excntry\"] == \"USA\"].copy()\n",
    "hml_usa.loc[:, \"ret\"] = hml_usa.loc[:, [f\"ret_{settings['weighting']['us']}\"]]\n",
    "\n",
    "hml_ex_usa = hml[hml[\"excntry\"] != \"USA\"].copy()\n",
    "hml_ex_usa.loc[:, \"ret\"] = hml_ex_usa.loc[\n",
    "    :, [f\"ret_{settings['weighting']['global_ex_us']}\"]\n",
    "]\n",
    "\n",
    "hml = pd.concat([hml_usa, hml_ex_usa])"
   ]
  },
  {
   "cell_type": "code",
   "execution_count": null,
   "metadata": {},
   "outputs": [
    {
     "data": {
      "text/html": [
       "<div>\n",
       "<style scoped>\n",
       "    .dataframe tbody tr th:only-of-type {\n",
       "        vertical-align: middle;\n",
       "    }\n",
       "\n",
       "    .dataframe tbody tr th {\n",
       "        vertical-align: top;\n",
       "    }\n",
       "\n",
       "    .dataframe thead th {\n",
       "        text-align: right;\n",
       "    }\n",
       "</style>\n",
       "<table border=\"1\" class=\"dataframe\">\n",
       "  <thead>\n",
       "    <tr style=\"text-align: right;\">\n",
       "      <th></th>\n",
       "      <th>excntry</th>\n",
       "      <th>characteristic</th>\n",
       "      <th>eom</th>\n",
       "      <th>signal</th>\n",
       "      <th>n_stocks</th>\n",
       "      <th>n_stocks_min</th>\n",
       "      <th>ret_ew</th>\n",
       "      <th>ret_vw</th>\n",
       "      <th>ret_vw_cap</th>\n",
       "      <th>ret</th>\n",
       "    </tr>\n",
       "  </thead>\n",
       "  <tbody>\n",
       "    <tr>\n",
       "      <th>2050119</th>\n",
       "      <td>USA</td>\n",
       "      <td>age</td>\n",
       "      <td>1926-03-31</td>\n",
       "      <td>1.0</td>\n",
       "      <td>502</td>\n",
       "      <td>8</td>\n",
       "      <td>0.066167</td>\n",
       "      <td>0.098837</td>\n",
       "      <td>0.086738</td>\n",
       "      <td>0.086738</td>\n",
       "    </tr>\n",
       "    <tr>\n",
       "      <th>2050120</th>\n",
       "      <td>USA</td>\n",
       "      <td>age</td>\n",
       "      <td>1926-04-30</td>\n",
       "      <td>1.0</td>\n",
       "      <td>505</td>\n",
       "      <td>12</td>\n",
       "      <td>-0.010546</td>\n",
       "      <td>0.006303</td>\n",
       "      <td>0.000572</td>\n",
       "      <td>0.000572</td>\n",
       "    </tr>\n",
       "    <tr>\n",
       "      <th>2050121</th>\n",
       "      <td>USA</td>\n",
       "      <td>age</td>\n",
       "      <td>1926-05-31</td>\n",
       "      <td>2.0</td>\n",
       "      <td>510</td>\n",
       "      <td>17</td>\n",
       "      <td>0.020290</td>\n",
       "      <td>0.000190</td>\n",
       "      <td>0.006332</td>\n",
       "      <td>0.006332</td>\n",
       "    </tr>\n",
       "    <tr>\n",
       "      <th>2050122</th>\n",
       "      <td>USA</td>\n",
       "      <td>age</td>\n",
       "      <td>1926-06-30</td>\n",
       "      <td>2.0</td>\n",
       "      <td>512</td>\n",
       "      <td>21</td>\n",
       "      <td>0.008927</td>\n",
       "      <td>0.008323</td>\n",
       "      <td>0.003012</td>\n",
       "      <td>0.003012</td>\n",
       "    </tr>\n",
       "    <tr>\n",
       "      <th>2050123</th>\n",
       "      <td>USA</td>\n",
       "      <td>age</td>\n",
       "      <td>1926-07-31</td>\n",
       "      <td>2.0</td>\n",
       "      <td>503</td>\n",
       "      <td>23</td>\n",
       "      <td>-0.017724</td>\n",
       "      <td>0.004220</td>\n",
       "      <td>-0.003211</td>\n",
       "      <td>-0.003211</td>\n",
       "    </tr>\n",
       "  </tbody>\n",
       "</table>\n",
       "</div>"
      ],
      "text/plain": [
       "        excntry characteristic        eom  signal  n_stocks  n_stocks_min  \\\n",
       "2050119     USA            age 1926-03-31     1.0       502             8   \n",
       "2050120     USA            age 1926-04-30     1.0       505            12   \n",
       "2050121     USA            age 1926-05-31     2.0       510            17   \n",
       "2050122     USA            age 1926-06-30     2.0       512            21   \n",
       "2050123     USA            age 1926-07-31     2.0       503            23   \n",
       "\n",
       "           ret_ew    ret_vw  ret_vw_cap       ret  \n",
       "2050119  0.066167  0.098837    0.086738  0.086738  \n",
       "2050120 -0.010546  0.006303    0.000572  0.000572  \n",
       "2050121  0.020290  0.000190    0.006332  0.006332  \n",
       "2050122  0.008927  0.008323    0.003012  0.003012  \n",
       "2050123 -0.017724  0.004220   -0.003211 -0.003211  "
      ]
     },
     "execution_count": 17,
     "metadata": {},
     "output_type": "execute_result"
    }
   ],
   "source": [
    "hml.head()"
   ]
  },
  {
   "cell_type": "markdown",
   "metadata": {},
   "source": [
    "## Filter"
   ]
  },
  {
   "cell_type": "code",
   "execution_count": null,
   "metadata": {},
   "outputs": [],
   "source": [
    "hml = hml[\n",
    "    (hml[\"characteristic\"].isin(base_chars))\n",
    "    & (hml[\"eom\"] >= settings[\"start_date\"])\n",
    "    & (hml[\"eom\"] <= settings[\"end_date\"])\n",
    "    & (~hml[\"ret\"].isna())\n",
    "    & (hml[\"n_stocks_min\"] >= settings[\"n_stocks_min\"])\n",
    "    & (~hml[\"excntry\"].isin(settings[\"country_excl\"]))\n",
    "]"
   ]
  },
  {
   "cell_type": "code",
   "execution_count": null,
   "metadata": {},
   "outputs": [],
   "source": [
    "hml = hml.drop(columns=[\"signal\", \"n_stocks_min\"])"
   ]
  },
  {
   "cell_type": "code",
   "execution_count": null,
   "metadata": {},
   "outputs": [
    {
     "data": {
      "text/html": [
       "<div>\n",
       "<style scoped>\n",
       "    .dataframe tbody tr th:only-of-type {\n",
       "        vertical-align: middle;\n",
       "    }\n",
       "\n",
       "    .dataframe tbody tr th {\n",
       "        vertical-align: top;\n",
       "    }\n",
       "\n",
       "    .dataframe thead th {\n",
       "        text-align: right;\n",
       "    }\n",
       "</style>\n",
       "<table border=\"1\" class=\"dataframe\">\n",
       "  <thead>\n",
       "    <tr style=\"text-align: right;\">\n",
       "      <th></th>\n",
       "      <th>excntry</th>\n",
       "      <th>characteristic</th>\n",
       "      <th>eom</th>\n",
       "      <th>n_stocks</th>\n",
       "      <th>ret_ew</th>\n",
       "      <th>ret_vw</th>\n",
       "      <th>ret_vw_cap</th>\n",
       "      <th>ret</th>\n",
       "    </tr>\n",
       "  </thead>\n",
       "  <tbody>\n",
       "    <tr>\n",
       "      <th>2050119</th>\n",
       "      <td>USA</td>\n",
       "      <td>age</td>\n",
       "      <td>1926-03-31</td>\n",
       "      <td>502</td>\n",
       "      <td>0.066167</td>\n",
       "      <td>0.098837</td>\n",
       "      <td>0.086738</td>\n",
       "      <td>0.086738</td>\n",
       "    </tr>\n",
       "    <tr>\n",
       "      <th>2050120</th>\n",
       "      <td>USA</td>\n",
       "      <td>age</td>\n",
       "      <td>1926-04-30</td>\n",
       "      <td>505</td>\n",
       "      <td>-0.010546</td>\n",
       "      <td>0.006303</td>\n",
       "      <td>0.000572</td>\n",
       "      <td>0.000572</td>\n",
       "    </tr>\n",
       "    <tr>\n",
       "      <th>2050121</th>\n",
       "      <td>USA</td>\n",
       "      <td>age</td>\n",
       "      <td>1926-05-31</td>\n",
       "      <td>510</td>\n",
       "      <td>0.020290</td>\n",
       "      <td>0.000190</td>\n",
       "      <td>0.006332</td>\n",
       "      <td>0.006332</td>\n",
       "    </tr>\n",
       "    <tr>\n",
       "      <th>2050122</th>\n",
       "      <td>USA</td>\n",
       "      <td>age</td>\n",
       "      <td>1926-06-30</td>\n",
       "      <td>512</td>\n",
       "      <td>0.008927</td>\n",
       "      <td>0.008323</td>\n",
       "      <td>0.003012</td>\n",
       "      <td>0.003012</td>\n",
       "    </tr>\n",
       "    <tr>\n",
       "      <th>2050123</th>\n",
       "      <td>USA</td>\n",
       "      <td>age</td>\n",
       "      <td>1926-07-31</td>\n",
       "      <td>503</td>\n",
       "      <td>-0.017724</td>\n",
       "      <td>0.004220</td>\n",
       "      <td>-0.003211</td>\n",
       "      <td>-0.003211</td>\n",
       "    </tr>\n",
       "  </tbody>\n",
       "</table>\n",
       "</div>"
      ],
      "text/plain": [
       "        excntry characteristic        eom  n_stocks    ret_ew    ret_vw  \\\n",
       "2050119     USA            age 1926-03-31       502  0.066167  0.098837   \n",
       "2050120     USA            age 1926-04-30       505 -0.010546  0.006303   \n",
       "2050121     USA            age 1926-05-31       510  0.020290  0.000190   \n",
       "2050122     USA            age 1926-06-30       512  0.008927  0.008323   \n",
       "2050123     USA            age 1926-07-31       503 -0.017724  0.004220   \n",
       "\n",
       "         ret_vw_cap       ret  \n",
       "2050119    0.086738  0.086738  \n",
       "2050120    0.000572  0.000572  \n",
       "2050121    0.006332  0.006332  \n",
       "2050122    0.003012  0.003012  \n",
       "2050123   -0.003211 -0.003211  "
      ]
     },
     "execution_count": 20,
     "metadata": {},
     "output_type": "execute_result"
    }
   ],
   "source": [
    "hml.head()"
   ]
  },
  {
   "cell_type": "markdown",
   "metadata": {},
   "source": [
    "### Set direction as original study"
   ]
  },
  {
   "cell_type": "code",
   "execution_count": null,
   "metadata": {},
   "outputs": [],
   "source": [
    "hml = hml.merge(\n",
    "    char_info[[\"characteristic\", \"direction\"]], on=\"characteristic\", how=\"left\"\n",
    ")\n",
    "hml[\"ret\"] = hml[\"ret\"] * hml[\"direction\"]\n",
    "hml = hml.drop(columns=[\"ret_vw\", \"ret_ew\", \"ret_vw_cap\"])"
   ]
  },
  {
   "cell_type": "markdown",
   "metadata": {},
   "source": [
    "데이터 중복 check"
   ]
  },
  {
   "cell_type": "code",
   "execution_count": null,
   "metadata": {},
   "outputs": [],
   "source": [
    "if hml.duplicated(subset=[\"characteristic\", \"excntry\", \"eom\"]).any():\n",
    "    raise Exception(\"HML is duplicated\")"
   ]
  },
  {
   "cell_type": "markdown",
   "metadata": {},
   "source": [
    "## Regional Portfolios"
   ]
  },
  {
   "cell_type": "code",
   "execution_count": null,
   "metadata": {},
   "outputs": [],
   "source": [
    "def regional_data(data, region, market_returns, countries, weighting, countries_min, months_min, size_grps=False):\n",
    "    __market_returns = market_returns.copy()\n",
    "    __data = data.copy()\n",
    "\n",
    "    __weights = __market_returns[__market_returns[\"excntry\"].isin(countries)].copy()\n",
    "    # 총 시장 자본 규모로 정의\n",
    "    __weights[\"country_weight\"] = __weights.apply(\n",
    "        lambda x: (\n",
    "            x[\"me_lag1\"]\n",
    "            if weighting == \"market_cap\"\n",
    "            else (x[\"stocks\"] if weighting == \"stocks\" else 1)\n",
    "        ),\n",
    "        axis=1,\n",
    "    )\n",
    "    __pf = __data[__data[\"excntry\"].isin(countries)].merge(\n",
    "        __weights[[\"excntry\", \"eom\", \"country_weight\", \"mkt_vw_exc\"]],\n",
    "        on=[\"excntry\", \"eom\"],\n",
    "        how=\"left\",\n",
    "    )\n",
    "\n",
    "    if size_grps:\n",
    "        __pf = __pf.groupby(['characteristic', 'size_grp', 'eom']).agg(\n",
    "            n=('ret', 'size'),\n",
    "            ret=('ret', lambda x: np.average(x, weights=__pf.loc[x.index, 'country_weight'])),\n",
    "            mkt_vw_exc=('mkt_vw_exc', lambda x: np.average(x, weights=__pf.loc[x.index, 'country_weight']))\n",
    "        ).reset_index()\n",
    "    else:\n",
    "        __pf = (\n",
    "            __pf.groupby([\"characteristic\", \"eom\"])\n",
    "            .agg(\n",
    "                n=(\"ret\", \"size\"),\n",
    "                # Country Return을 Country weight로 결합해서 선형 결합함\n",
    "                ret=(\n",
    "                    \"ret\",\n",
    "                    lambda x: np.average(x, weights=__pf.loc[x.index, \"country_weight\"]),\n",
    "                ),\n",
    "                # USD 가충초과 수익률을 Return을 Country weight로 결합해서 선형 결합함\n",
    "                mkt_vw_exc=(\n",
    "                    \"mkt_vw_exc\",\n",
    "                    lambda x: np.average(x, weights=__pf.loc[x.index, \"country_weight\"]),\n",
    "                ),\n",
    "            )\n",
    "            .reset_index()\n",
    "        )\n",
    "\n",
    "\n",
    "\n",
    "    # 최소 국가 처리: Countries\n",
    "    __pf = __pf[__pf['n'] >= countries_min]\n",
    "\n",
    "    # Factor 수익률 기간 필터링\n",
    "    __pf['months'] = __pf.groupby('characteristic')['eom'].transform('size')\n",
    "    __pf = __pf[__pf['months'] >= months_min]\n",
    "    __pf = __pf.assign(region=region)\n",
    "    return __pf.copy()    "
   ]
  },
  {
   "cell_type": "code",
   "execution_count": null,
   "metadata": {},
   "outputs": [
    {
     "name": "stderr",
     "output_type": "stream",
     "text": [
      "  0%|          | 0/6 [00:00<?, ?it/s]"
     ]
    },
    {
     "name": "stderr",
     "output_type": "stream",
     "text": [
      "100%|██████████| 6/6 [00:00<00:00, 11.28it/s]\n"
     ]
    }
   ],
   "source": [
    "iter_list = []\n",
    "for key in tqdm(list(region_info.keys())):\n",
    "    countries = region_info[key][\"country_codes\"]\n",
    "    weighting = settings[\"country_weighting\"]\n",
    "    countries_min = region_info[key][\"countries_min\"]\n",
    "    months_min = settings[\"months_min\"]\n",
    "    data = hml.copy()\n",
    "    iter_list.append(\n",
    "        {\n",
    "            \"data\": hml.copy(),\n",
    "            \"region\": key, \n",
    "            \"market_returns\": market_returns.copy(), \n",
    "            \"countries\": countries, \n",
    "            \"weighting\": weighting, \n",
    "            \"countries_min\": countries_min, \n",
    "            \"months_min\": months_min, \n",
    "        }\n",
    "    )"
   ]
  },
  {
   "cell_type": "code",
   "execution_count": null,
   "metadata": {},
   "outputs": [],
   "source": [
    "parallel = Parallel(n_jobs=8, verbose=True)"
   ]
  },
  {
   "cell_type": "code",
   "execution_count": null,
   "metadata": {},
   "outputs": [
    {
     "name": "stderr",
     "output_type": "stream",
     "text": [
      "[Parallel(n_jobs=8)]: Using backend LokyBackend with 8 concurrent workers.\n",
      "[Parallel(n_jobs=8)]: Done   6 out of   6 | elapsed:   26.8s finished\n"
     ]
    }
   ],
   "source": [
    "region_pf_list = parallel(delayed(regional_data)(**i) for i in iter_list)"
   ]
  },
  {
   "cell_type": "code",
   "execution_count": null,
   "metadata": {},
   "outputs": [],
   "source": [
    "regional_pfs = pd.concat(region_pf_list)"
   ]
  },
  {
   "cell_type": "code",
   "execution_count": null,
   "metadata": {},
   "outputs": [
    {
     "data": {
      "text/html": [
       "<div>\n",
       "<style scoped>\n",
       "    .dataframe tbody tr th:only-of-type {\n",
       "        vertical-align: middle;\n",
       "    }\n",
       "\n",
       "    .dataframe tbody tr th {\n",
       "        vertical-align: top;\n",
       "    }\n",
       "\n",
       "    .dataframe thead th {\n",
       "        text-align: right;\n",
       "    }\n",
       "</style>\n",
       "<table border=\"1\" class=\"dataframe\">\n",
       "  <thead>\n",
       "    <tr style=\"text-align: right;\">\n",
       "      <th></th>\n",
       "      <th>characteristic</th>\n",
       "      <th>eom</th>\n",
       "      <th>n</th>\n",
       "      <th>ret</th>\n",
       "      <th>mkt_vw_exc</th>\n",
       "      <th>months</th>\n",
       "      <th>region</th>\n",
       "    </tr>\n",
       "  </thead>\n",
       "  <tbody>\n",
       "    <tr>\n",
       "      <th>68826</th>\n",
       "      <td>zero_trades_252d</td>\n",
       "      <td>2020-08-31</td>\n",
       "      <td>51</td>\n",
       "      <td>-0.002759</td>\n",
       "      <td>0.045821</td>\n",
       "      <td>333</td>\n",
       "      <td>world_ex_us</td>\n",
       "    </tr>\n",
       "    <tr>\n",
       "      <th>68827</th>\n",
       "      <td>zero_trades_252d</td>\n",
       "      <td>2020-09-30</td>\n",
       "      <td>51</td>\n",
       "      <td>0.011594</td>\n",
       "      <td>-0.025302</td>\n",
       "      <td>333</td>\n",
       "      <td>world_ex_us</td>\n",
       "    </tr>\n",
       "    <tr>\n",
       "      <th>68828</th>\n",
       "      <td>zero_trades_252d</td>\n",
       "      <td>2020-10-31</td>\n",
       "      <td>51</td>\n",
       "      <td>0.010563</td>\n",
       "      <td>-0.011245</td>\n",
       "      <td>333</td>\n",
       "      <td>world_ex_us</td>\n",
       "    </tr>\n",
       "    <tr>\n",
       "      <th>68829</th>\n",
       "      <td>zero_trades_252d</td>\n",
       "      <td>2020-11-30</td>\n",
       "      <td>51</td>\n",
       "      <td>-0.036397</td>\n",
       "      <td>0.112102</td>\n",
       "      <td>333</td>\n",
       "      <td>world_ex_us</td>\n",
       "    </tr>\n",
       "    <tr>\n",
       "      <th>68830</th>\n",
       "      <td>zero_trades_252d</td>\n",
       "      <td>2020-12-31</td>\n",
       "      <td>51</td>\n",
       "      <td>-0.005676</td>\n",
       "      <td>0.051994</td>\n",
       "      <td>333</td>\n",
       "      <td>world_ex_us</td>\n",
       "    </tr>\n",
       "  </tbody>\n",
       "</table>\n",
       "</div>"
      ],
      "text/plain": [
       "         characteristic        eom   n       ret  mkt_vw_exc  months  \\\n",
       "68826  zero_trades_252d 2020-08-31  51 -0.002759    0.045821     333   \n",
       "68827  zero_trades_252d 2020-09-30  51  0.011594   -0.025302     333   \n",
       "68828  zero_trades_252d 2020-10-31  51  0.010563   -0.011245     333   \n",
       "68829  zero_trades_252d 2020-11-30  51 -0.036397    0.112102     333   \n",
       "68830  zero_trades_252d 2020-12-31  51 -0.005676    0.051994     333   \n",
       "\n",
       "            region  \n",
       "68826  world_ex_us  \n",
       "68827  world_ex_us  \n",
       "68828  world_ex_us  \n",
       "68829  world_ex_us  \n",
       "68830  world_ex_us  "
      ]
     },
     "execution_count": 28,
     "metadata": {},
     "output_type": "execute_result"
    }
   ],
   "source": [
    "regional_pfs.tail()"
   ]
  },
  {
   "cell_type": "code",
   "execution_count": null,
   "metadata": {},
   "outputs": [],
   "source": [
    "regional_pfs.to_parquet(save_path / \"regional_pfs.parquet\")"
   ]
  },
  {
   "cell_type": "markdown",
   "metadata": {},
   "source": [
    "## Characteristic Managed Portfolios"
   ]
  },
  {
   "cell_type": "code",
   "execution_count": null,
   "metadata": {},
   "outputs": [],
   "source": [
    "cmp = pd.read_csv(data_path / \"cmp.csv\")\n",
    "cmp[\"eom\"] = pd.to_datetime(cmp[\"eom\"])"
   ]
  },
  {
   "cell_type": "code",
   "execution_count": null,
   "metadata": {},
   "outputs": [],
   "source": [
    "cmp = cmp.rename(columns={'ret_weighted': 'ret'})\n",
    "cmp = cmp[\n",
    "    (cmp['characteristic'].isin(base_chars)) &\n",
    "    (cmp['eom'] >= settings['start_date']) &\n",
    "    (cmp['eom'] <= settings['end_date']) &\n",
    "    (~cmp['ret'].isna()) &\n",
    "    (cmp['signal_weighted'] != 0) &\n",
    "    (cmp['n_stocks'] >= settings['n_stocks_min'] * 2) &\n",
    "    (~cmp['excntry'].isin(settings['country_excl']))\n",
    "]\n",
    "cmp = cmp.drop(columns=['signal_weighted', 'n_stocks'])"
   ]
  },
  {
   "cell_type": "code",
   "execution_count": null,
   "metadata": {},
   "outputs": [],
   "source": [
    "cmp = cmp.merge(char_info[['characteristic', 'direction']], on='characteristic', how='left')\n",
    "cmp['ret'] = cmp['ret'] * cmp['direction']"
   ]
  },
  {
   "cell_type": "code",
   "execution_count": null,
   "metadata": {},
   "outputs": [],
   "source": [
    "if cmp.duplicated(subset=['characteristic', 'excntry', 'size_grp', 'eom']).any():\n",
    "    raise Warning(\"THE DATA HAS DUPLICATES\")"
   ]
  },
  {
   "cell_type": "code",
   "execution_count": null,
   "metadata": {},
   "outputs": [
    {
     "name": "stderr",
     "output_type": "stream",
     "text": [
      "100%|██████████| 6/6 [00:00<00:00, 19.10it/s]\n"
     ]
    }
   ],
   "source": [
    "iter_list = []\n",
    "for key in tqdm(list(region_info.keys())):\n",
    "    countries = region_info[key][\"country_codes\"]\n",
    "    weighting = settings[\"country_weighting\"]\n",
    "    countries_min = region_info[key][\"countries_min\"]\n",
    "    months_min = settings[\"months_min\"]\n",
    "    data = hml.copy()\n",
    "    iter_list.append(\n",
    "        {\n",
    "            \"data\": cmp.copy(),\n",
    "            \"region\": key, \n",
    "            \"market_returns\": market_returns.copy(), \n",
    "            \"countries\": countries, \n",
    "            \"weighting\": weighting, \n",
    "            \"countries_min\": countries_min, \n",
    "            \"months_min\": months_min, \n",
    "            \"size_grps\": True, \n",
    "        }\n",
    "    )"
   ]
  },
  {
   "cell_type": "code",
   "execution_count": null,
   "metadata": {},
   "outputs": [
    {
     "name": "stderr",
     "output_type": "stream",
     "text": [
      "[Parallel(n_jobs=8)]: Using backend LokyBackend with 8 concurrent workers.\n",
      "[Parallel(n_jobs=8)]: Done   6 out of   6 | elapsed:  1.8min finished\n"
     ]
    }
   ],
   "source": [
    "regional_pfs_cmp_list = parallel(delayed(regional_data)(**i) for i in iter_list)"
   ]
  },
  {
   "cell_type": "code",
   "execution_count": null,
   "metadata": {},
   "outputs": [],
   "source": [
    "regional_pfs_cmp = pd.concat(regional_pfs_cmp_list)"
   ]
  },
  {
   "cell_type": "code",
   "execution_count": null,
   "metadata": {},
   "outputs": [
    {
     "data": {
      "text/html": [
       "<div>\n",
       "<style scoped>\n",
       "    .dataframe tbody tr th:only-of-type {\n",
       "        vertical-align: middle;\n",
       "    }\n",
       "\n",
       "    .dataframe tbody tr th {\n",
       "        vertical-align: top;\n",
       "    }\n",
       "\n",
       "    .dataframe thead th {\n",
       "        text-align: right;\n",
       "    }\n",
       "</style>\n",
       "<table border=\"1\" class=\"dataframe\">\n",
       "  <thead>\n",
       "    <tr style=\"text-align: right;\">\n",
       "      <th></th>\n",
       "      <th>characteristic</th>\n",
       "      <th>size_grp</th>\n",
       "      <th>eom</th>\n",
       "      <th>n</th>\n",
       "      <th>ret</th>\n",
       "      <th>mkt_vw_exc</th>\n",
       "      <th>months</th>\n",
       "      <th>region</th>\n",
       "    </tr>\n",
       "  </thead>\n",
       "  <tbody>\n",
       "    <tr>\n",
       "      <th>656669</th>\n",
       "      <td>zero_trades_252d</td>\n",
       "      <td>small</td>\n",
       "      <td>2020-08-31</td>\n",
       "      <td>1</td>\n",
       "      <td>-0.004566</td>\n",
       "      <td>0.074068</td>\n",
       "      <td>5377</td>\n",
       "      <td>world</td>\n",
       "    </tr>\n",
       "    <tr>\n",
       "      <th>656670</th>\n",
       "      <td>zero_trades_252d</td>\n",
       "      <td>small</td>\n",
       "      <td>2020-09-30</td>\n",
       "      <td>1</td>\n",
       "      <td>-0.002624</td>\n",
       "      <td>-0.036228</td>\n",
       "      <td>5377</td>\n",
       "      <td>world</td>\n",
       "    </tr>\n",
       "    <tr>\n",
       "      <th>656671</th>\n",
       "      <td>zero_trades_252d</td>\n",
       "      <td>small</td>\n",
       "      <td>2020-10-31</td>\n",
       "      <td>1</td>\n",
       "      <td>0.025459</td>\n",
       "      <td>-0.020973</td>\n",
       "      <td>5377</td>\n",
       "      <td>world</td>\n",
       "    </tr>\n",
       "    <tr>\n",
       "      <th>656672</th>\n",
       "      <td>zero_trades_252d</td>\n",
       "      <td>small</td>\n",
       "      <td>2020-11-30</td>\n",
       "      <td>1</td>\n",
       "      <td>-0.130096</td>\n",
       "      <td>0.128030</td>\n",
       "      <td>5377</td>\n",
       "      <td>world</td>\n",
       "    </tr>\n",
       "    <tr>\n",
       "      <th>656673</th>\n",
       "      <td>zero_trades_252d</td>\n",
       "      <td>small</td>\n",
       "      <td>2020-12-31</td>\n",
       "      <td>1</td>\n",
       "      <td>-0.005767</td>\n",
       "      <td>0.046276</td>\n",
       "      <td>5377</td>\n",
       "      <td>world</td>\n",
       "    </tr>\n",
       "  </tbody>\n",
       "</table>\n",
       "</div>"
      ],
      "text/plain": [
       "          characteristic size_grp        eom  n       ret  mkt_vw_exc  months  \\\n",
       "656669  zero_trades_252d    small 2020-08-31  1 -0.004566    0.074068    5377   \n",
       "656670  zero_trades_252d    small 2020-09-30  1 -0.002624   -0.036228    5377   \n",
       "656671  zero_trades_252d    small 2020-10-31  1  0.025459   -0.020973    5377   \n",
       "656672  zero_trades_252d    small 2020-11-30  1 -0.130096    0.128030    5377   \n",
       "656673  zero_trades_252d    small 2020-12-31  1 -0.005767    0.046276    5377   \n",
       "\n",
       "       region  \n",
       "656669  world  \n",
       "656670  world  \n",
       "656671  world  \n",
       "656672  world  \n",
       "656673  world  "
      ]
     },
     "execution_count": 37,
     "metadata": {},
     "output_type": "execute_result"
    }
   ],
   "source": [
    "regional_pfs_cmp.tail()"
   ]
  },
  {
   "cell_type": "code",
   "execution_count": null,
   "metadata": {},
   "outputs": [],
   "source": [
    "regional_pfs_cmp.to_parquet(save_path / \"regional_pfs_cmp.parquet\")"
   ]
  },
  {
   "cell_type": "markdown",
   "metadata": {},
   "source": [
    "## Regional Market Returns"
   ]
  },
  {
   "cell_type": "code",
   "execution_count": null,
   "metadata": {},
   "outputs": [
    {
     "name": "stderr",
     "output_type": "stream",
     "text": [
      "100%|██████████| 6/6 [00:00<00:00, 17.37it/s]\n"
     ]
    }
   ],
   "source": [
    "regional_mkt_ret_list = []\n",
    "for key in tqdm(list(region_info.keys())):\n",
    "    countries = region_info[key][\"country_codes\"]\n",
    "    weighting = settings[\"country_weighting\"]\n",
    "    countries_min = region_info[key][\"countries_min\"]\n",
    "    months_min = settings[\"months_min\"]\n",
    "\n",
    "    __market_returns = market_returns.copy() \n",
    "    __pf = __market_returns[__market_returns[\"excntry\"].isin(countries)].groupby('eom').agg(\n",
    "        n=('mkt_vw_exc', 'size'),\n",
    "        market=('mkt_vw_exc', lambda x: np.average(x, weights=market_returns.loc[x.index, 'me_lag1']))\n",
    "    )\n",
    "    __pf = __pf[__pf[\"n\"] >= countries_min] \n",
    "    __pf = __pf.assign(region=key) \n",
    "    regional_mkt_ret_list.append(__pf)             "
   ]
  },
  {
   "cell_type": "code",
   "execution_count": null,
   "metadata": {},
   "outputs": [],
   "source": [
    "regional_mkt_ret = pd.concat(regional_mkt_ret_list)"
   ]
  },
  {
   "cell_type": "code",
   "execution_count": null,
   "metadata": {},
   "outputs": [
    {
     "data": {
      "text/html": [
       "<div>\n",
       "<style scoped>\n",
       "    .dataframe tbody tr th:only-of-type {\n",
       "        vertical-align: middle;\n",
       "    }\n",
       "\n",
       "    .dataframe tbody tr th {\n",
       "        vertical-align: top;\n",
       "    }\n",
       "\n",
       "    .dataframe thead th {\n",
       "        text-align: right;\n",
       "    }\n",
       "</style>\n",
       "<table border=\"1\" class=\"dataframe\">\n",
       "  <thead>\n",
       "    <tr style=\"text-align: right;\">\n",
       "      <th></th>\n",
       "      <th>n</th>\n",
       "      <th>market</th>\n",
       "      <th>region</th>\n",
       "    </tr>\n",
       "    <tr>\n",
       "      <th>eom</th>\n",
       "      <th></th>\n",
       "      <th></th>\n",
       "      <th></th>\n",
       "    </tr>\n",
       "  </thead>\n",
       "  <tbody>\n",
       "    <tr>\n",
       "      <th>2020-08-31</th>\n",
       "      <td>90</td>\n",
       "      <td>0.045697</td>\n",
       "      <td>world_ex_us</td>\n",
       "    </tr>\n",
       "    <tr>\n",
       "      <th>2020-09-30</th>\n",
       "      <td>90</td>\n",
       "      <td>-0.025242</td>\n",
       "      <td>world_ex_us</td>\n",
       "    </tr>\n",
       "    <tr>\n",
       "      <th>2020-10-31</th>\n",
       "      <td>90</td>\n",
       "      <td>-0.011276</td>\n",
       "      <td>world_ex_us</td>\n",
       "    </tr>\n",
       "    <tr>\n",
       "      <th>2020-11-30</th>\n",
       "      <td>90</td>\n",
       "      <td>0.111943</td>\n",
       "      <td>world_ex_us</td>\n",
       "    </tr>\n",
       "    <tr>\n",
       "      <th>2020-12-31</th>\n",
       "      <td>90</td>\n",
       "      <td>0.052057</td>\n",
       "      <td>world_ex_us</td>\n",
       "    </tr>\n",
       "  </tbody>\n",
       "</table>\n",
       "</div>"
      ],
      "text/plain": [
       "             n    market       region\n",
       "eom                                  \n",
       "2020-08-31  90  0.045697  world_ex_us\n",
       "2020-09-30  90 -0.025242  world_ex_us\n",
       "2020-10-31  90 -0.011276  world_ex_us\n",
       "2020-11-30  90  0.111943  world_ex_us\n",
       "2020-12-31  90  0.052057  world_ex_us"
      ]
     },
     "execution_count": 41,
     "metadata": {},
     "output_type": "execute_result"
    }
   ],
   "source": [
    "regional_mkt_ret.tail()"
   ]
  },
  {
   "cell_type": "code",
   "execution_count": null,
   "metadata": {},
   "outputs": [],
   "source": [
    "regional_mkt_ret.to_parquet(save_path / \"regional_mkt_ret.parquet\")"
   ]
  },
  {
   "cell_type": "code",
   "execution_count": null,
   "metadata": {},
   "outputs": [],
   "source": []
  }
 ],
 "metadata": {
  "kernelspec": {
   "display_name": "finance",
   "language": "python",
   "name": "python3"
  },
  "language_info": {
   "codemirror_mode": {
    "name": "ipython",
    "version": 3
   },
   "file_extension": ".py",
   "mimetype": "text/x-python",
   "name": "python",
   "nbconvert_exporter": "python",
   "pygments_lexer": "ipython3",
   "version": "3.12.3"
  }
 },
 "nbformat": 4,
 "nbformat_minor": 2
}
