{
 "cells": [
  {
   "cell_type": "code",
   "execution_count": 1,
   "metadata": {},
   "outputs": [
    {
     "data": {
      "application/javascript": "\n            setTimeout(function() {\n                var nbb_cell_id = 1;\n                var nbb_unformatted_code = \"%load_ext nb_black\";\n                var nbb_formatted_code = \"%load_ext nb_black\";\n                var nbb_cells = Jupyter.notebook.get_cells();\n                for (var i = 0; i < nbb_cells.length; ++i) {\n                    if (nbb_cells[i].input_prompt_number == nbb_cell_id) {\n                        if (nbb_cells[i].get_text() == nbb_unformatted_code) {\n                             nbb_cells[i].set_text(nbb_formatted_code);\n                        }\n                        break;\n                    }\n                }\n            }, 500);\n            ",
      "text/plain": [
       "<IPython.core.display.Javascript object>"
      ]
     },
     "metadata": {},
     "output_type": "display_data"
    }
   ],
   "source": [
    "%load_ext nb_black"
   ]
  },
  {
   "cell_type": "code",
   "execution_count": 2,
   "metadata": {},
   "outputs": [
    {
     "data": {
      "application/javascript": "\n            setTimeout(function() {\n                var nbb_cell_id = 2;\n                var nbb_unformatted_code = \"import numpy as np\\nimport pandas as pd\\nfrom tqdm import tqdm\\nfrom pathlib import Path\\nfrom functools import reduce\\nfrom joblib import Parallel, delayed\";\n                var nbb_formatted_code = \"import numpy as np\\nimport pandas as pd\\nfrom tqdm import tqdm\\nfrom pathlib import Path\\nfrom functools import reduce\\nfrom joblib import Parallel, delayed\";\n                var nbb_cells = Jupyter.notebook.get_cells();\n                for (var i = 0; i < nbb_cells.length; ++i) {\n                    if (nbb_cells[i].input_prompt_number == nbb_cell_id) {\n                        if (nbb_cells[i].get_text() == nbb_unformatted_code) {\n                             nbb_cells[i].set_text(nbb_formatted_code);\n                        }\n                        break;\n                    }\n                }\n            }, 500);\n            ",
      "text/plain": [
       "<IPython.core.display.Javascript object>"
      ]
     },
     "metadata": {},
     "output_type": "display_data"
    }
   ],
   "source": [
    "import numpy as np\n",
    "import pandas as pd\n",
    "from tqdm import tqdm\n",
    "from pathlib import Path\n",
    "from functools import reduce\n",
    "from joblib import Parallel, delayed"
   ]
  },
  {
   "cell_type": "markdown",
   "metadata": {},
   "source": [
    "## Parameter Setting을 정의"
   ]
  },
  {
   "cell_type": "code",
   "execution_count": 3,
   "metadata": {},
   "outputs": [
    {
     "data": {
      "application/javascript": "\n            setTimeout(function() {\n                var nbb_cell_id = 3;\n                var nbb_unformatted_code = \"save_path = Path(\\\"result\\\")\\ndata_path = Path(\\\"Data\\\")\";\n                var nbb_formatted_code = \"save_path = Path(\\\"result\\\")\\ndata_path = Path(\\\"Data\\\")\";\n                var nbb_cells = Jupyter.notebook.get_cells();\n                for (var i = 0; i < nbb_cells.length; ++i) {\n                    if (nbb_cells[i].input_prompt_number == nbb_cell_id) {\n                        if (nbb_cells[i].get_text() == nbb_unformatted_code) {\n                             nbb_cells[i].set_text(nbb_formatted_code);\n                        }\n                        break;\n                    }\n                }\n            }, 500);\n            ",
      "text/plain": [
       "<IPython.core.display.Javascript object>"
      ]
     },
     "metadata": {},
     "output_type": "display_data"
    }
   ],
   "source": [
    "save_path = Path(\"result\")\n",
    "data_path = Path(\"Data\")"
   ]
  },
  {
   "cell_type": "code",
   "execution_count": 4,
   "metadata": {},
   "outputs": [
    {
     "data": {
      "application/javascript": "\n            setTimeout(function() {\n                var nbb_cell_id = 4;\n                var nbb_unformatted_code = \"settings = {\\n    \\\"seed\\\": 1,\\n    \\\"start_date\\\": pd.Timestamp(\\\"1925-12-31\\\"),\\n    # 'end_date': datetime.date(2022, 12, 31),  # end_date\\ub294 \\ubc18\\ub4dc\\uc2dc Last_CRSP_UPDATE \\uc774\\ud558\\uc774\\uc5b4\\uc57c \\ud569\\ub2c8\\ub2e4\\n    \\\"end_date\\\": pd.Timestamp(\\n        \\\"2022-12-31\\\"\\n    ),  # end_date\\ub294 \\ubc18\\ub4dc\\uc2dc Last_CRSP_UPDATE \\uc774\\ud558\\uc774\\uc5b4\\uc57c \\ud569\\ub2c8\\ub2e4\\n    \\\"country_excl\\\": [\\\"ZWE\\\", \\\"VEN\\\"],  # \\ub370\\uc774\\ud130 \\ubb38\\uc81c\\ub85c \\uc778\\ud574 \\uc81c\\uc678\\ub41c \\uad6d\\uac00\\ub4e4\\n    \\\"weighting\\\": {  # \\uc0ac\\uc6a9\\ud560 \\uac00\\uc911\\uce58 \\ubc29\\uc2dd (\\uc120\\ud0dd\\uc9c0: \\\"ew\\\", \\\"vw\\\", \\\"vw_cap\\\")\\n        \\\"us\\\": \\\"vw_cap\\\",\\n        \\\"global_ex_us\\\": \\\"vw_cap\\\",\\n    },\\n    \\\"n_stocks_min\\\": 5,  # \\uac01 \\ud3ec\\ud2b8\\ud3f4\\ub9ac\\uc624 \\uce21\\uba74\\uc5d0\\uc11c \\ucd5c\\uc18c\\ud55c\\uc758 \\uc8fc\\uc2dd \\uc218\\n    \\\"months_min\\\": 5 * 12,  # \\ud329\\ud130\\uac00 \\ud3ec\\ud568\\ub418\\uae30 \\uc704\\ud574 \\ud544\\uc694\\ud55c \\ucd5c\\uc18c\\ud55c\\uc758 \\uad00\\uce21 \\uae30\\uac04\\n    \\\"country_weighting\\\": \\\"market_cap\\\",  # \\uad6d\\uac00 \\uac00\\uc911\\uce58\\ub97c \\ubd80\\uc5ec\\ud558\\ub294 \\ubc29\\ubc95 (\\\"market_cap\\\", \\\"stocks\\\", \\\"ew\\\")\\n    \\\"countries_min\\\": 3,  # \\uc9c0\\uc5ed \\ud3ec\\ud2b8\\ud3f4\\ub9ac\\uc624\\uc5d0 \\ud544\\uc694\\ud55c \\ucd5c\\uc18c \\uad6d\\uac00 \\uc218\\n    \\\"clusters\\\": \\\"hcl\\\",  # \\uc0ac\\uc6a9\\ud560 \\ud074\\ub7ec\\uc2a4\\ud130\\ub9c1 \\ubc29\\ubc95 (\\uc120\\ud0dd\\uc9c0: \\\"manual\\\", \\\"hcl\\\")\\n    \\\"hcl\\\": {\\n        \\\"ret_type\\\": \\\"alpha\\\",  # \\ud074\\ub7ec\\uc2a4\\ud130\\ub9c1\\uc5d0 \\uc0ac\\uc6a9\\ud560 \\uc218\\uc775 \\uc720\\ud615 (\\uc120\\ud0dd\\uc9c0: \\\"raw\\\", \\\"alpha\\\")\\n        \\\"cor_method\\\": \\\"pearson\\\",  # \\uac70\\ub9ac \\uacc4\\uc0b0\\uc5d0 \\uc0ac\\uc6a9\\ud560 \\uc0c1\\uad00\\uad00\\uacc4 \\ubc29\\ubc95\\n        \\\"linkage\\\": \\\"ward.D\\\",  # \\ud074\\ub7ec\\uc2a4\\ud130\\ub9c1\\uc5d0 \\uc0ac\\uc6a9\\ud560 \\uc5f0\\uacb0 \\ubc29\\ubc95\\n        \\\"k\\\": 13,  # \\uc0c9\\uce60\\ud560 \\ud074\\ub7ec\\uc2a4\\ud130 \\uc218\\n        \\\"region\\\": \\\"us\\\",  # \\ud074\\ub7ec\\uc2a4\\ud130\\ub9c1\\uc5d0 \\uc0ac\\uc6a9\\ud560 \\uc9c0\\uc5ed\\n        \\\"start_year\\\": 1975,  # \\ud074\\ub7ec\\uc2a4\\ud130 \\ub370\\uc774\\ud130 \\uc2dc\\uc791 \\uc5f0\\ub3c4\\n    },\\n    \\\"eb\\\": {\\n        \\\"scale_alpha\\\": True,\\n        \\\"overlapping\\\": False,\\n        \\\"min_obs\\\": 5 * 12,\\n        \\\"fix_alpha\\\": True,\\n        \\\"bs_cov\\\": True,\\n        \\\"shrinkage\\\": 0,\\n        \\\"cor_type\\\": \\\"block_clusters\\\",\\n        \\\"bs_samples\\\": 10000,  # \\ubd80\\ud2b8\\uc2a4\\ud2b8\\ub7a9 \\uc0d8\\ud50c \\uc218 (\\ub17c\\ubb38\\uc5d0\\uc11c\\ub294 10000\\uc73c\\ub85c \\uc124\\uc815)\\n    },\\n    \\\"tpf\\\": {\\n        \\\"start\\\": {\\n            \\\"world\\\": pd.Timestamp(\\\"1952-1-1\\\"),\\n            \\\"us\\\": pd.Timestamp(\\\"1952-1-1\\\"),\\n            \\\"developed\\\": pd.Timestamp(\\\"1987-1-1\\\"),\\n            \\\"emerging\\\": pd.Timestamp(\\\"1994-1-1\\\"),\\n            \\\"size_grps\\\": pd.Timestamp(\\\"1963-1-1\\\"),  # \\ub098\\ub178\\ucea1 \\uc2dc\\uc791\\uc5d0 \\uc758\\ud574 \\uacb0\\uc815\\ub428\\n        },\\n        \\\"bs_samples\\\": 10000,  # \\ubd80\\ud2b8\\uc2a4\\ud2b8\\ub7a9 \\uc0d8\\ud50c \\uc218 [\\ub17c\\ubb38\\uc5d0\\uc11c\\ub294 10,000]\\n        \\\"shorting\\\": False,  # \\uacf5\\ub9e4\\ub3c4\\uac00 \\ud5c8\\uc6a9\\ub418\\uc5b4\\uc57c \\ud558\\ub294\\uac00?\\n    },\\n    \\\"tpf_factors\\\": {\\n        \\\"region\\\": \\\"us\\\",\\n        \\\"orig_sig\\\": True,  # \\uc6d0\\ub798 \\uc911\\uc694\\ud55c \\ud329\\ud130\\ub9cc \\ud3ec\\ud568: True, \\ubaa8\\ub450 \\ud3ec\\ud568: (True, False)\\n        \\\"start\\\": pd.Timestamp(\\\"1972-1-31\\\"),\\n        \\\"scale\\\": True,  # \\uc0ac\\ud6c4 \\ubcc0\\ub3d9\\uc131 10%\\uc5d0 \\ub9de\\ucdb0 \\uc870\\uc815\\ud560 \\uac83\\uc778\\uac00?\\n        \\\"k\\\": 5,  # \\uad50\\ucc28 \\uac80\\uc99d\\uc744 \\uc704\\ud55c \\ud3f4\\ub4dc \\uc218\\n    },\\n}\";\n                var nbb_formatted_code = \"settings = {\\n    \\\"seed\\\": 1,\\n    \\\"start_date\\\": pd.Timestamp(\\\"1925-12-31\\\"),\\n    # 'end_date': datetime.date(2022, 12, 31),  # end_date\\ub294 \\ubc18\\ub4dc\\uc2dc Last_CRSP_UPDATE \\uc774\\ud558\\uc774\\uc5b4\\uc57c \\ud569\\ub2c8\\ub2e4\\n    \\\"end_date\\\": pd.Timestamp(\\n        \\\"2022-12-31\\\"\\n    ),  # end_date\\ub294 \\ubc18\\ub4dc\\uc2dc Last_CRSP_UPDATE \\uc774\\ud558\\uc774\\uc5b4\\uc57c \\ud569\\ub2c8\\ub2e4\\n    \\\"country_excl\\\": [\\\"ZWE\\\", \\\"VEN\\\"],  # \\ub370\\uc774\\ud130 \\ubb38\\uc81c\\ub85c \\uc778\\ud574 \\uc81c\\uc678\\ub41c \\uad6d\\uac00\\ub4e4\\n    \\\"weighting\\\": {  # \\uc0ac\\uc6a9\\ud560 \\uac00\\uc911\\uce58 \\ubc29\\uc2dd (\\uc120\\ud0dd\\uc9c0: \\\"ew\\\", \\\"vw\\\", \\\"vw_cap\\\")\\n        \\\"us\\\": \\\"vw_cap\\\",\\n        \\\"global_ex_us\\\": \\\"vw_cap\\\",\\n    },\\n    \\\"n_stocks_min\\\": 5,  # \\uac01 \\ud3ec\\ud2b8\\ud3f4\\ub9ac\\uc624 \\uce21\\uba74\\uc5d0\\uc11c \\ucd5c\\uc18c\\ud55c\\uc758 \\uc8fc\\uc2dd \\uc218\\n    \\\"months_min\\\": 5 * 12,  # \\ud329\\ud130\\uac00 \\ud3ec\\ud568\\ub418\\uae30 \\uc704\\ud574 \\ud544\\uc694\\ud55c \\ucd5c\\uc18c\\ud55c\\uc758 \\uad00\\uce21 \\uae30\\uac04\\n    \\\"country_weighting\\\": \\\"market_cap\\\",  # \\uad6d\\uac00 \\uac00\\uc911\\uce58\\ub97c \\ubd80\\uc5ec\\ud558\\ub294 \\ubc29\\ubc95 (\\\"market_cap\\\", \\\"stocks\\\", \\\"ew\\\")\\n    \\\"countries_min\\\": 3,  # \\uc9c0\\uc5ed \\ud3ec\\ud2b8\\ud3f4\\ub9ac\\uc624\\uc5d0 \\ud544\\uc694\\ud55c \\ucd5c\\uc18c \\uad6d\\uac00 \\uc218\\n    \\\"clusters\\\": \\\"hcl\\\",  # \\uc0ac\\uc6a9\\ud560 \\ud074\\ub7ec\\uc2a4\\ud130\\ub9c1 \\ubc29\\ubc95 (\\uc120\\ud0dd\\uc9c0: \\\"manual\\\", \\\"hcl\\\")\\n    \\\"hcl\\\": {\\n        \\\"ret_type\\\": \\\"alpha\\\",  # \\ud074\\ub7ec\\uc2a4\\ud130\\ub9c1\\uc5d0 \\uc0ac\\uc6a9\\ud560 \\uc218\\uc775 \\uc720\\ud615 (\\uc120\\ud0dd\\uc9c0: \\\"raw\\\", \\\"alpha\\\")\\n        \\\"cor_method\\\": \\\"pearson\\\",  # \\uac70\\ub9ac \\uacc4\\uc0b0\\uc5d0 \\uc0ac\\uc6a9\\ud560 \\uc0c1\\uad00\\uad00\\uacc4 \\ubc29\\ubc95\\n        \\\"linkage\\\": \\\"ward.D\\\",  # \\ud074\\ub7ec\\uc2a4\\ud130\\ub9c1\\uc5d0 \\uc0ac\\uc6a9\\ud560 \\uc5f0\\uacb0 \\ubc29\\ubc95\\n        \\\"k\\\": 13,  # \\uc0c9\\uce60\\ud560 \\ud074\\ub7ec\\uc2a4\\ud130 \\uc218\\n        \\\"region\\\": \\\"us\\\",  # \\ud074\\ub7ec\\uc2a4\\ud130\\ub9c1\\uc5d0 \\uc0ac\\uc6a9\\ud560 \\uc9c0\\uc5ed\\n        \\\"start_year\\\": 1975,  # \\ud074\\ub7ec\\uc2a4\\ud130 \\ub370\\uc774\\ud130 \\uc2dc\\uc791 \\uc5f0\\ub3c4\\n    },\\n    \\\"eb\\\": {\\n        \\\"scale_alpha\\\": True,\\n        \\\"overlapping\\\": False,\\n        \\\"min_obs\\\": 5 * 12,\\n        \\\"fix_alpha\\\": True,\\n        \\\"bs_cov\\\": True,\\n        \\\"shrinkage\\\": 0,\\n        \\\"cor_type\\\": \\\"block_clusters\\\",\\n        \\\"bs_samples\\\": 10000,  # \\ubd80\\ud2b8\\uc2a4\\ud2b8\\ub7a9 \\uc0d8\\ud50c \\uc218 (\\ub17c\\ubb38\\uc5d0\\uc11c\\ub294 10000\\uc73c\\ub85c \\uc124\\uc815)\\n    },\\n    \\\"tpf\\\": {\\n        \\\"start\\\": {\\n            \\\"world\\\": pd.Timestamp(\\\"1952-1-1\\\"),\\n            \\\"us\\\": pd.Timestamp(\\\"1952-1-1\\\"),\\n            \\\"developed\\\": pd.Timestamp(\\\"1987-1-1\\\"),\\n            \\\"emerging\\\": pd.Timestamp(\\\"1994-1-1\\\"),\\n            \\\"size_grps\\\": pd.Timestamp(\\\"1963-1-1\\\"),  # \\ub098\\ub178\\ucea1 \\uc2dc\\uc791\\uc5d0 \\uc758\\ud574 \\uacb0\\uc815\\ub428\\n        },\\n        \\\"bs_samples\\\": 10000,  # \\ubd80\\ud2b8\\uc2a4\\ud2b8\\ub7a9 \\uc0d8\\ud50c \\uc218 [\\ub17c\\ubb38\\uc5d0\\uc11c\\ub294 10,000]\\n        \\\"shorting\\\": False,  # \\uacf5\\ub9e4\\ub3c4\\uac00 \\ud5c8\\uc6a9\\ub418\\uc5b4\\uc57c \\ud558\\ub294\\uac00?\\n    },\\n    \\\"tpf_factors\\\": {\\n        \\\"region\\\": \\\"us\\\",\\n        \\\"orig_sig\\\": True,  # \\uc6d0\\ub798 \\uc911\\uc694\\ud55c \\ud329\\ud130\\ub9cc \\ud3ec\\ud568: True, \\ubaa8\\ub450 \\ud3ec\\ud568: (True, False)\\n        \\\"start\\\": pd.Timestamp(\\\"1972-1-31\\\"),\\n        \\\"scale\\\": True,  # \\uc0ac\\ud6c4 \\ubcc0\\ub3d9\\uc131 10%\\uc5d0 \\ub9de\\ucdb0 \\uc870\\uc815\\ud560 \\uac83\\uc778\\uac00?\\n        \\\"k\\\": 5,  # \\uad50\\ucc28 \\uac80\\uc99d\\uc744 \\uc704\\ud55c \\ud3f4\\ub4dc \\uc218\\n    },\\n}\";\n                var nbb_cells = Jupyter.notebook.get_cells();\n                for (var i = 0; i < nbb_cells.length; ++i) {\n                    if (nbb_cells[i].input_prompt_number == nbb_cell_id) {\n                        if (nbb_cells[i].get_text() == nbb_unformatted_code) {\n                             nbb_cells[i].set_text(nbb_formatted_code);\n                        }\n                        break;\n                    }\n                }\n            }, 500);\n            ",
      "text/plain": [
       "<IPython.core.display.Javascript object>"
      ]
     },
     "metadata": {},
     "output_type": "display_data"
    }
   ],
   "source": [
    "settings = {\n",
    "    \"seed\": 1,\n",
    "    \"start_date\": pd.Timestamp(\"1925-12-31\"),\n",
    "    # 'end_date': datetime.date(2022, 12, 31),  # end_date는 반드시 Last_CRSP_UPDATE 이하이어야 합니다\n",
    "    \"end_date\": pd.Timestamp(\n",
    "        \"2022-12-31\"\n",
    "    ),  # end_date는 반드시 Last_CRSP_UPDATE 이하이어야 합니다\n",
    "    \"country_excl\": [\"ZWE\", \"VEN\"],  # 데이터 문제로 인해 제외된 국가들\n",
    "    \"weighting\": {  # 사용할 가중치 방식 (선택지: \"ew\", \"vw\", \"vw_cap\")\n",
    "        \"us\": \"vw_cap\",\n",
    "        \"global_ex_us\": \"vw_cap\",\n",
    "    },\n",
    "    \"n_stocks_min\": 5,  # 각 포트폴리오 측면에서 최소한의 주식 수\n",
    "    \"months_min\": 5 * 12,  # 팩터가 포함되기 위해 필요한 최소한의 관측 기간\n",
    "    \"country_weighting\": \"market_cap\",  # 국가 가중치를 부여하는 방법 (\"market_cap\", \"stocks\", \"ew\")\n",
    "    \"countries_min\": 3,  # 지역 포트폴리오에 필요한 최소 국가 수\n",
    "    \"clusters\": \"hcl\",  # 사용할 클러스터링 방법 (선택지: \"manual\", \"hcl\")\n",
    "    \"hcl\": {\n",
    "        \"ret_type\": \"alpha\",  # 클러스터링에 사용할 수익 유형 (선택지: \"raw\", \"alpha\")\n",
    "        \"cor_method\": \"pearson\",  # 거리 계산에 사용할 상관관계 방법\n",
    "        \"linkage\": \"ward.D\",  # 클러스터링에 사용할 연결 방법\n",
    "        \"k\": 13,  # 색칠할 클러스터 수\n",
    "        \"region\": \"us\",  # 클러스터링에 사용할 지역\n",
    "        \"start_year\": 1975,  # 클러스터 데이터 시작 연도\n",
    "    },\n",
    "    \"eb\": {\n",
    "        \"scale_alpha\": True,\n",
    "        \"overlapping\": False,\n",
    "        \"min_obs\": 5 * 12,\n",
    "        \"fix_alpha\": True,\n",
    "        \"bs_cov\": True,\n",
    "        \"shrinkage\": 0,\n",
    "        \"cor_type\": \"block_clusters\",\n",
    "        \"bs_samples\": 10000,  # 부트스트랩 샘플 수 (논문에서는 10000으로 설정)\n",
    "    },\n",
    "    \"tpf\": {\n",
    "        \"start\": {\n",
    "            \"world\": pd.Timestamp(\"1952-1-1\"),\n",
    "            \"us\": pd.Timestamp(\"1952-1-1\"),\n",
    "            \"developed\": pd.Timestamp(\"1987-1-1\"),\n",
    "            \"emerging\": pd.Timestamp(\"1994-1-1\"),\n",
    "            \"size_grps\": pd.Timestamp(\"1963-1-1\"),  # 나노캡 시작에 의해 결정됨\n",
    "        },\n",
    "        \"bs_samples\": 10000,  # 부트스트랩 샘플 수 [논문에서는 10,000]\n",
    "        \"shorting\": False,  # 공매도가 허용되어야 하는가?\n",
    "    },\n",
    "    \"tpf_factors\": {\n",
    "        \"region\": \"us\",\n",
    "        \"orig_sig\": True,  # 원래 중요한 팩터만 포함: True, 모두 포함: (True, False)\n",
    "        \"start\": pd.Timestamp(\"1972-1-31\"),\n",
    "        \"scale\": True,  # 사후 변동성 10%에 맞춰 조정할 것인가?\n",
    "        \"k\": 5,  # 교차 검증을 위한 폴드 수\n",
    "    },\n",
    "}"
   ]
  },
  {
   "cell_type": "markdown",
   "metadata": {},
   "source": [
    "# Market Return\n",
    "\n",
    "**변수 설명**\n",
    "- `excntry`: ISO Alpha-3 코드로 표시된 증권이 상장된 국가.\n",
    "- `eom`: 수익률을 계산하는 데 사용된 월의 월말.\n",
    "- `characteristic`: 특성의 이름, Jensen, Kelly, Pedersen (2022)의 표 J.1을 참조.\n",
    "- `region`: 포함된 팩터들의 지역/MSCI 국가 개발 상태.\n",
    "- `size_grp`: 순위 가중 팩터를 생성하는 데 사용된 사이즈 그룹.\n",
    "- `pf`: 포트폴리오 식별자.\n",
    "- `n`: 포트폴리오 내의 총 주식 수.\n",
    "- `n_stocks`: 롱(long) 및 숏(short) 포트폴리오 내의 총 주식 수.\n",
    "- `n_stocks_min`: 롱 및 숏 포트폴리오 내 최소 주식 수. 예를 들어, 롱 포트폴리오에 10개의 주식이 있고 숏 포트폴리오에 40개의 주식이 있으면, `n_stocks=50`이고 `n_stocks_min=10`.\n",
    "- `n_countries`: 지역 포트폴리오에 포함된 국가 수.\n",
    "- `signal` (pfs.csv): 포트폴리오 내 중간 특성 값.\n",
    "- `signal` (hml.csv, lms.csv): 롱 및 숏 포트폴리오 내 중간 특성의 차이.\n",
    "- `signal_weighted`: 순위 가중 신호.\n",
    "- `ret_ew`: 동등 가중 수익률.\n",
    "- `ret_vw`: 가치 가중 수익률.\n",
    "- `ret_vw_cap`: Jensen, Kelly, Pedersen (2022)에서 사용된 제한된 가치 가중 수익률.\n",
    "- `ret_weighted`: 순위 가중 수익률.\n",
    "- `me_lag1`: 월 초 기준으로 한 국가 내 총 시장 자본 규모.\n",
    "- `dolvol_lag1`: 전월에 국가 내에서 거래된 총 거래 금액.\n",
    "- `stocks`: 시장 포트폴리오에 포함된 주식.\n",
    "- `mkt_vw_lcl`: 현지 통화로 표시된 가치 가중 시장 수익률.\n",
    "- `mkt_ew_lcl`: 현지 통화로 표시된 동등 가중 시장 수익률.\n",
    "- `mkt_vw`: USD로 표시된 가치 가중 시장 수익률.\n",
    "- `mkt_ew`: USD로 표시된 동등 가중 시장 수익률.\n",
    "- `mkt_ew_exc`: USD로 표시된 동등 가중 초과 시장 수익률.\n",
    "- `mkt_vw_exc` (market_return.csv): USD로 표시된 가치 가중 초과 시장 수익률.\n",
    "- `mkt_vw_exc` (Regional Factors): 지역 포트폴리오에 포함된 국가들의 USD로 표시된 가치 가중 평균 초과 시장 수익률."
   ]
  },
  {
   "cell_type": "code",
   "execution_count": 5,
   "metadata": {},
   "outputs": [
    {
     "data": {
      "application/javascript": "\n            setTimeout(function() {\n                var nbb_cell_id = 5;\n                var nbb_unformatted_code = \"market_returns = pd.read_csv(data_path / \\\"market_returns.csv\\\")\";\n                var nbb_formatted_code = \"market_returns = pd.read_csv(data_path / \\\"market_returns.csv\\\")\";\n                var nbb_cells = Jupyter.notebook.get_cells();\n                for (var i = 0; i < nbb_cells.length; ++i) {\n                    if (nbb_cells[i].input_prompt_number == nbb_cell_id) {\n                        if (nbb_cells[i].get_text() == nbb_unformatted_code) {\n                             nbb_cells[i].set_text(nbb_formatted_code);\n                        }\n                        break;\n                    }\n                }\n            }, 500);\n            ",
      "text/plain": [
       "<IPython.core.display.Javascript object>"
      ]
     },
     "metadata": {},
     "output_type": "display_data"
    }
   ],
   "source": [
    "market_returns = pd.read_csv(data_path / \"market_returns.csv\")"
   ]
  },
  {
   "cell_type": "code",
   "execution_count": 6,
   "metadata": {},
   "outputs": [
    {
     "data": {
      "application/javascript": "\n            setTimeout(function() {\n                var nbb_cell_id = 6;\n                var nbb_unformatted_code = \"market_returns[\\\"eom\\\"] = pd.to_datetime(market_returns[\\\"eom\\\"])\";\n                var nbb_formatted_code = \"market_returns[\\\"eom\\\"] = pd.to_datetime(market_returns[\\\"eom\\\"])\";\n                var nbb_cells = Jupyter.notebook.get_cells();\n                for (var i = 0; i < nbb_cells.length; ++i) {\n                    if (nbb_cells[i].input_prompt_number == nbb_cell_id) {\n                        if (nbb_cells[i].get_text() == nbb_unformatted_code) {\n                             nbb_cells[i].set_text(nbb_formatted_code);\n                        }\n                        break;\n                    }\n                }\n            }, 500);\n            ",
      "text/plain": [
       "<IPython.core.display.Javascript object>"
      ]
     },
     "metadata": {},
     "output_type": "display_data"
    }
   ],
   "source": [
    "market_returns[\"eom\"] = pd.to_datetime(market_returns[\"eom\"])"
   ]
  },
  {
   "cell_type": "markdown",
   "metadata": {},
   "source": [
    "**예상대로 market return은 Long-Only Market Return이다.**"
   ]
  },
  {
   "cell_type": "code",
   "execution_count": 7,
   "metadata": {},
   "outputs": [],
   "source": [
    "test_return = (\n",
    "    market_returns[market_returns[\"excntry\"] == \"USA\"]\n",
    "    .loc[:, [\"eom\", \"mkt_vw\"]]\n",
    "    .set_index(\"eom\")\n",
    ")\n",
    "test_return.add(1).cumprod().plot(logy=True)"
   ]
  },
  {
   "cell_type": "code",
   "execution_count": null,
   "metadata": {},
   "outputs": [
    {
     "data": {
      "application/javascript": "\n            setTimeout(function() {\n                var nbb_cell_id = 7;\n                var nbb_unformatted_code = \"market_returns = market_returns[\\n    (market_returns[\\\"eom\\\"] >= settings[\\\"start_date\\\"])\\n    & (market_returns[\\\"eom\\\"] <= settings[\\\"end_date\\\"])\\n    &\\n    # \\ub370\\uc774\\ud130 \\ubb38\\uc81c\\ub85c \\uc81c\\uc678\\ud560 \\uad6d\\uac00\\ub4e4\\n    (~market_returns[\\\"excntry\\\"].isin(settings[\\\"country_excl\\\"]))\\n    & ~(\\n        (market_returns[\\\"excntry\\\"] == \\\"PER\\\")\\n        & (market_returns[\\\"eom\\\"] == pd.Timestamp(\\\"1992-01-31\\\"))\\n        & (market_returns[\\\"mkt_vw_exc\\\"] >= 8900)\\n    )\\n    & ~(\\n        (market_returns[\\\"excntry\\\"] == \\\"VEN\\\")\\n        & (market_returns[\\\"eom\\\"] == pd.Timestamp(\\\"2018-02-28\\\"))\\n        & (market_returns[\\\"mkt_vw_exc\\\"] < -1)\\n    )\\n]\";\n                var nbb_formatted_code = \"market_returns = market_returns[\\n    (market_returns[\\\"eom\\\"] >= settings[\\\"start_date\\\"])\\n    & (market_returns[\\\"eom\\\"] <= settings[\\\"end_date\\\"])\\n    &\\n    # \\ub370\\uc774\\ud130 \\ubb38\\uc81c\\ub85c \\uc81c\\uc678\\ud560 \\uad6d\\uac00\\ub4e4\\n    (~market_returns[\\\"excntry\\\"].isin(settings[\\\"country_excl\\\"]))\\n    & ~(\\n        (market_returns[\\\"excntry\\\"] == \\\"PER\\\")\\n        & (market_returns[\\\"eom\\\"] == pd.Timestamp(\\\"1992-01-31\\\"))\\n        & (market_returns[\\\"mkt_vw_exc\\\"] >= 8900)\\n    )\\n    & ~(\\n        (market_returns[\\\"excntry\\\"] == \\\"VEN\\\")\\n        & (market_returns[\\\"eom\\\"] == pd.Timestamp(\\\"2018-02-28\\\"))\\n        & (market_returns[\\\"mkt_vw_exc\\\"] < -1)\\n    )\\n]\";\n                var nbb_cells = Jupyter.notebook.get_cells();\n                for (var i = 0; i < nbb_cells.length; ++i) {\n                    if (nbb_cells[i].input_prompt_number == nbb_cell_id) {\n                        if (nbb_cells[i].get_text() == nbb_unformatted_code) {\n                             nbb_cells[i].set_text(nbb_formatted_code);\n                        }\n                        break;\n                    }\n                }\n            }, 500);\n            ",
      "text/plain": [
       "<IPython.core.display.Javascript object>"
      ]
     },
     "metadata": {},
     "output_type": "display_data"
    }
   ],
   "source": [
    "market_returns = market_returns[\n",
    "    (market_returns[\"eom\"] >= settings[\"start_date\"])\n",
    "    & (market_returns[\"eom\"] <= settings[\"end_date\"])\n",
    "    &\n",
    "    # 데이터 문제로 제외할 국가들\n",
    "    (~market_returns[\"excntry\"].isin(settings[\"country_excl\"]))\n",
    "    & ~(\n",
    "        (market_returns[\"excntry\"] == \"PER\")\n",
    "        & (market_returns[\"eom\"] == pd.Timestamp(\"1992-01-31\"))\n",
    "        & (market_returns[\"mkt_vw_exc\"] >= 8900)\n",
    "    )\n",
    "    & ~(\n",
    "        (market_returns[\"excntry\"] == \"VEN\")\n",
    "        & (market_returns[\"eom\"] == pd.Timestamp(\"2018-02-28\"))\n",
    "        & (market_returns[\"mkt_vw_exc\"] < -1)\n",
    "    )\n",
    "]"
   ]
  },
  {
   "cell_type": "markdown",
   "metadata": {},
   "source": [
    "## Labels"
   ]
  },
  {
   "cell_type": "code",
   "execution_count": null,
   "metadata": {},
   "outputs": [
    {
     "data": {
      "application/javascript": "\n            setTimeout(function() {\n                var nbb_cell_id = 8;\n                var nbb_unformatted_code = \"char_info = pd.read_excel(\\n    \\\"Factor Details.xlsx\\\", sheet_name=\\\"details\\\", usecols=\\\"A:N\\\"\\n).dropna(subset=[\\\"abr_jkp\\\"])\";\n                var nbb_formatted_code = \"char_info = pd.read_excel(\\n    \\\"Factor Details.xlsx\\\", sheet_name=\\\"details\\\", usecols=\\\"A:N\\\"\\n).dropna(subset=[\\\"abr_jkp\\\"])\";\n                var nbb_cells = Jupyter.notebook.get_cells();\n                for (var i = 0; i < nbb_cells.length; ++i) {\n                    if (nbb_cells[i].input_prompt_number == nbb_cell_id) {\n                        if (nbb_cells[i].get_text() == nbb_unformatted_code) {\n                             nbb_cells[i].set_text(nbb_formatted_code);\n                        }\n                        break;\n                    }\n                }\n            }, 500);\n            ",
      "text/plain": [
       "<IPython.core.display.Javascript object>"
      ]
     },
     "metadata": {},
     "output_type": "display_data"
    }
   ],
   "source": [
    "char_info = pd.read_excel(\n",
    "    \"Factor Details.xlsx\", sheet_name=\"details\", usecols=\"A:N\"\n",
    ").dropna(subset=[\"abr_jkp\"])"
   ]
  },
  {
   "cell_type": "code",
   "execution_count": null,
   "metadata": {},
   "outputs": [
    {
     "data": {
      "application/javascript": "\n            setTimeout(function() {\n                var nbb_cell_id = 9;\n                var nbb_unformatted_code = \"char_info = char_info[[\\\"abr_jkp\\\", \\\"direction\\\", \\\"in-sample period\\\", \\\"group\\\"]].rename(\\n    columns={\\n        \\\"abr_jkp\\\": \\\"characteristic\\\",\\n        \\\"in-sample period\\\": \\\"date_range\\\",\\n        \\\"group\\\": \\\"hxz_group\\\",\\n    }\\n)\\nchar_info[\\\"direction\\\"] = char_info[\\\"direction\\\"].astype(int)\\nchar_info[\\\"sample_start\\\"] = char_info[\\\"date_range\\\"].str.extract(r\\\"(^\\\\d+)\\\").astype(int)\\nchar_info[\\\"sample_end\\\"] = char_info[\\\"date_range\\\"].str.extract(r\\\"(\\\\d+$)\\\").astype(int)\\n# \\uac01\\uc885 \\uc694\\uc778\\ub4e4 \\uc815\\uc758\\nbase_chars = char_info[\\\"characteristic\\\"].tolist()\";\n                var nbb_formatted_code = \"char_info = char_info[[\\\"abr_jkp\\\", \\\"direction\\\", \\\"in-sample period\\\", \\\"group\\\"]].rename(\\n    columns={\\n        \\\"abr_jkp\\\": \\\"characteristic\\\",\\n        \\\"in-sample period\\\": \\\"date_range\\\",\\n        \\\"group\\\": \\\"hxz_group\\\",\\n    }\\n)\\nchar_info[\\\"direction\\\"] = char_info[\\\"direction\\\"].astype(int)\\nchar_info[\\\"sample_start\\\"] = char_info[\\\"date_range\\\"].str.extract(r\\\"(^\\\\d+)\\\").astype(int)\\nchar_info[\\\"sample_end\\\"] = char_info[\\\"date_range\\\"].str.extract(r\\\"(\\\\d+$)\\\").astype(int)\\n# \\uac01\\uc885 \\uc694\\uc778\\ub4e4 \\uc815\\uc758\\nbase_chars = char_info[\\\"characteristic\\\"].tolist()\";\n                var nbb_cells = Jupyter.notebook.get_cells();\n                for (var i = 0; i < nbb_cells.length; ++i) {\n                    if (nbb_cells[i].input_prompt_number == nbb_cell_id) {\n                        if (nbb_cells[i].get_text() == nbb_unformatted_code) {\n                             nbb_cells[i].set_text(nbb_formatted_code);\n                        }\n                        break;\n                    }\n                }\n            }, 500);\n            ",
      "text/plain": [
       "<IPython.core.display.Javascript object>"
      ]
     },
     "metadata": {},
     "output_type": "display_data"
    }
   ],
   "source": [
    "char_info = char_info[[\"abr_jkp\", \"direction\", \"in-sample period\", \"group\"]].rename(\n",
    "    columns={\n",
    "        \"abr_jkp\": \"characteristic\",\n",
    "        \"in-sample period\": \"date_range\",\n",
    "        \"group\": \"hxz_group\",\n",
    "    }\n",
    ")\n",
    "char_info[\"direction\"] = char_info[\"direction\"].astype(int)\n",
    "char_info[\"sample_start\"] = char_info[\"date_range\"].str.extract(r\"(^\\d+)\").astype(int)\n",
    "char_info[\"sample_end\"] = char_info[\"date_range\"].str.extract(r\"(\\d+$)\").astype(int)\n",
    "# 각종 요인들 정의\n",
    "base_chars = char_info[\"characteristic\"].tolist()"
   ]
  },
  {
   "cell_type": "markdown",
   "metadata": {},
   "source": [
    "# Country Classification"
   ]
  },
  {
   "cell_type": "code",
   "execution_count": null,
   "metadata": {},
   "outputs": [
    {
     "data": {
      "application/javascript": "\n            setTimeout(function() {\n                var nbb_cell_id = 10;\n                var nbb_unformatted_code = \"country_classification = pd.read_excel(\\n    \\\"Country Classification.xlsx\\\", sheet_name=\\\"countries\\\", usecols=\\\"A:C\\\"\\n).dropna(subset=[\\\"excntry\\\"])\";\n                var nbb_formatted_code = \"country_classification = pd.read_excel(\\n    \\\"Country Classification.xlsx\\\", sheet_name=\\\"countries\\\", usecols=\\\"A:C\\\"\\n).dropna(subset=[\\\"excntry\\\"])\";\n                var nbb_cells = Jupyter.notebook.get_cells();\n                for (var i = 0; i < nbb_cells.length; ++i) {\n                    if (nbb_cells[i].input_prompt_number == nbb_cell_id) {\n                        if (nbb_cells[i].get_text() == nbb_unformatted_code) {\n                             nbb_cells[i].set_text(nbb_formatted_code);\n                        }\n                        break;\n                    }\n                }\n            }, 500);\n            ",
      "text/plain": [
       "<IPython.core.display.Javascript object>"
      ]
     },
     "metadata": {},
     "output_type": "display_data"
    }
   ],
   "source": [
    "country_classification = pd.read_excel(\n",
    "    \"Country Classification.xlsx\", sheet_name=\"countries\", usecols=\"A:C\"\n",
    ").dropna(subset=[\"excntry\"])"
   ]
  },
  {
   "cell_type": "code",
   "execution_count": null,
   "metadata": {},
   "outputs": [
    {
     "data": {
      "text/html": [
       "<div>\n",
       "<style scoped>\n",
       "    .dataframe tbody tr th:only-of-type {\n",
       "        vertical-align: middle;\n",
       "    }\n",
       "\n",
       "    .dataframe tbody tr th {\n",
       "        vertical-align: top;\n",
       "    }\n",
       "\n",
       "    .dataframe thead th {\n",
       "        text-align: right;\n",
       "    }\n",
       "</style>\n",
       "<table border=\"1\" class=\"dataframe\">\n",
       "  <thead>\n",
       "    <tr style=\"text-align: right;\">\n",
       "      <th></th>\n",
       "      <th>excntry</th>\n",
       "      <th>msci_development</th>\n",
       "      <th>region</th>\n",
       "    </tr>\n",
       "  </thead>\n",
       "  <tbody>\n",
       "    <tr>\n",
       "      <th>0</th>\n",
       "      <td>USA</td>\n",
       "      <td>developed</td>\n",
       "      <td>north america</td>\n",
       "    </tr>\n",
       "    <tr>\n",
       "      <th>1</th>\n",
       "      <td>CHN</td>\n",
       "      <td>emerging</td>\n",
       "      <td>asia</td>\n",
       "    </tr>\n",
       "    <tr>\n",
       "      <th>2</th>\n",
       "      <td>JPN</td>\n",
       "      <td>developed</td>\n",
       "      <td>asia</td>\n",
       "    </tr>\n",
       "    <tr>\n",
       "      <th>3</th>\n",
       "      <td>HKG</td>\n",
       "      <td>developed</td>\n",
       "      <td>asia</td>\n",
       "    </tr>\n",
       "    <tr>\n",
       "      <th>4</th>\n",
       "      <td>GBR</td>\n",
       "      <td>developed</td>\n",
       "      <td>europe</td>\n",
       "    </tr>\n",
       "  </tbody>\n",
       "</table>\n",
       "</div>"
      ],
      "text/plain": [
       "  excntry msci_development         region\n",
       "0     USA        developed  north america\n",
       "1     CHN         emerging           asia\n",
       "2     JPN        developed           asia\n",
       "3     HKG        developed           asia\n",
       "4     GBR        developed         europe"
      ]
     },
     "execution_count": 11,
     "metadata": {},
     "output_type": "execute_result"
    },
    {
     "data": {
      "application/javascript": "\n            setTimeout(function() {\n                var nbb_cell_id = 11;\n                var nbb_unformatted_code = \"country_classification.head()\";\n                var nbb_formatted_code = \"country_classification.head()\";\n                var nbb_cells = Jupyter.notebook.get_cells();\n                for (var i = 0; i < nbb_cells.length; ++i) {\n                    if (nbb_cells[i].input_prompt_number == nbb_cell_id) {\n                        if (nbb_cells[i].get_text() == nbb_unformatted_code) {\n                             nbb_cells[i].set_text(nbb_formatted_code);\n                        }\n                        break;\n                    }\n                }\n            }, 500);\n            ",
      "text/plain": [
       "<IPython.core.display.Javascript object>"
      ]
     },
     "metadata": {},
     "output_type": "display_data"
    }
   ],
   "source": [
    "country_classification.head()"
   ]
  },
  {
   "cell_type": "markdown",
   "metadata": {},
   "source": [
    "## Regions"
   ]
  },
  {
   "cell_type": "code",
   "execution_count": null,
   "metadata": {},
   "outputs": [
    {
     "data": {
      "application/javascript": "\n            setTimeout(function() {\n                var nbb_cell_id = 12;\n                var nbb_unformatted_code = \"region_info = pd.DataFrame(\\n    {\\n        \\\"name\\\": [\\\"us\\\", \\\"developed\\\", \\\"emerging\\\", \\\"frontier\\\", \\\"world\\\", \\\"world_ex_us\\\"],\\n        \\\"country_codes\\\": [\\n            [\\\"USA\\\"],\\n            country_classification[\\n                country_classification[\\\"msci_development\\\"] == \\\"developed\\\"\\n            ][\\\"excntry\\\"].tolist(),\\n            country_classification[\\n                country_classification[\\\"msci_development\\\"] == \\\"emerging\\\"\\n            ][\\\"excntry\\\"].tolist(),\\n            country_classification[\\n                country_classification[\\\"msci_development\\\"] == \\\"frontier\\\"\\n            ][\\\"excntry\\\"].tolist(),\\n            country_classification[\\\"excntry\\\"].tolist(),\\n            country_classification[country_classification[\\\"excntry\\\"] != \\\"USA\\\"][\\n                \\\"excntry\\\"\\n            ].tolist(),\\n        ],\\n        \\\"countries_min\\\": [1] + [settings[\\\"countries_min\\\"]] * 3 + [1, 3],\\n    }\\n)\";\n                var nbb_formatted_code = \"region_info = pd.DataFrame(\\n    {\\n        \\\"name\\\": [\\\"us\\\", \\\"developed\\\", \\\"emerging\\\", \\\"frontier\\\", \\\"world\\\", \\\"world_ex_us\\\"],\\n        \\\"country_codes\\\": [\\n            [\\\"USA\\\"],\\n            country_classification[\\n                country_classification[\\\"msci_development\\\"] == \\\"developed\\\"\\n            ][\\\"excntry\\\"].tolist(),\\n            country_classification[\\n                country_classification[\\\"msci_development\\\"] == \\\"emerging\\\"\\n            ][\\\"excntry\\\"].tolist(),\\n            country_classification[\\n                country_classification[\\\"msci_development\\\"] == \\\"frontier\\\"\\n            ][\\\"excntry\\\"].tolist(),\\n            country_classification[\\\"excntry\\\"].tolist(),\\n            country_classification[country_classification[\\\"excntry\\\"] != \\\"USA\\\"][\\n                \\\"excntry\\\"\\n            ].tolist(),\\n        ],\\n        \\\"countries_min\\\": [1] + [settings[\\\"countries_min\\\"]] * 3 + [1, 3],\\n    }\\n)\";\n                var nbb_cells = Jupyter.notebook.get_cells();\n                for (var i = 0; i < nbb_cells.length; ++i) {\n                    if (nbb_cells[i].input_prompt_number == nbb_cell_id) {\n                        if (nbb_cells[i].get_text() == nbb_unformatted_code) {\n                             nbb_cells[i].set_text(nbb_formatted_code);\n                        }\n                        break;\n                    }\n                }\n            }, 500);\n            ",
      "text/plain": [
       "<IPython.core.display.Javascript object>"
      ]
     },
     "metadata": {},
     "output_type": "display_data"
    }
   ],
   "source": [
    "region_info = pd.DataFrame(\n",
    "    {\n",
    "        \"name\": [\"us\", \"developed\", \"emerging\", \"frontier\", \"world\", \"world_ex_us\"],\n",
    "        \"country_codes\": [\n",
    "            [\"USA\"],\n",
    "            country_classification[\n",
    "                country_classification[\"msci_development\"] == \"developed\"\n",
    "            ][\"excntry\"].tolist(),\n",
    "            country_classification[\n",
    "                country_classification[\"msci_development\"] == \"emerging\"\n",
    "            ][\"excntry\"].tolist(),\n",
    "            country_classification[\n",
    "                country_classification[\"msci_development\"] == \"frontier\"\n",
    "            ][\"excntry\"].tolist(),\n",
    "            country_classification[\"excntry\"].tolist(),\n",
    "            country_classification[country_classification[\"excntry\"] != \"USA\"][\n",
    "                \"excntry\"\n",
    "            ].tolist(),\n",
    "        ],\n",
    "        \"countries_min\": [1] + [settings[\"countries_min\"]] * 3 + [1, 3],\n",
    "    }\n",
    ")"
   ]
  },
  {
   "cell_type": "code",
   "execution_count": null,
   "metadata": {},
   "outputs": [
    {
     "data": {
      "application/javascript": "\n            setTimeout(function() {\n                var nbb_cell_id = 13;\n                var nbb_unformatted_code = \"region_info = region_info.set_index(\\\"name\\\").to_dict(\\\"index\\\")\";\n                var nbb_formatted_code = \"region_info = region_info.set_index(\\\"name\\\").to_dict(\\\"index\\\")\";\n                var nbb_cells = Jupyter.notebook.get_cells();\n                for (var i = 0; i < nbb_cells.length; ++i) {\n                    if (nbb_cells[i].input_prompt_number == nbb_cell_id) {\n                        if (nbb_cells[i].get_text() == nbb_unformatted_code) {\n                             nbb_cells[i].set_text(nbb_formatted_code);\n                        }\n                        break;\n                    }\n                }\n            }, 500);\n            ",
      "text/plain": [
       "<IPython.core.display.Javascript object>"
      ]
     },
     "metadata": {},
     "output_type": "display_data"
    }
   ],
   "source": [
    "region_info = region_info.set_index(\"name\").to_dict(\"index\")"
   ]
  },
  {
   "cell_type": "markdown",
   "metadata": {},
   "source": [
    "## HML"
   ]
  },
  {
   "cell_type": "code",
   "execution_count": null,
   "metadata": {},
   "outputs": [
    {
     "data": {
      "application/javascript": "\n            setTimeout(function() {\n                var nbb_cell_id = 14;\n                var nbb_unformatted_code = \"hml = pd.read_csv(\\\"Data/hml.csv\\\", dtype={\\\"eom\\\": \\\"str\\\"})\\nhml[\\\"eom\\\"] = pd.to_datetime(hml[\\\"eom\\\"], format=\\\"%Y-%m-%d\\\")\";\n                var nbb_formatted_code = \"hml = pd.read_csv(\\\"Data/hml.csv\\\", dtype={\\\"eom\\\": \\\"str\\\"})\\nhml[\\\"eom\\\"] = pd.to_datetime(hml[\\\"eom\\\"], format=\\\"%Y-%m-%d\\\")\";\n                var nbb_cells = Jupyter.notebook.get_cells();\n                for (var i = 0; i < nbb_cells.length; ++i) {\n                    if (nbb_cells[i].input_prompt_number == nbb_cell_id) {\n                        if (nbb_cells[i].get_text() == nbb_unformatted_code) {\n                             nbb_cells[i].set_text(nbb_formatted_code);\n                        }\n                        break;\n                    }\n                }\n            }, 500);\n            ",
      "text/plain": [
       "<IPython.core.display.Javascript object>"
      ]
     },
     "metadata": {},
     "output_type": "display_data"
    }
   ],
   "source": [
    "hml = pd.read_csv(data_path / \"hml.csv\")\n",
    "hml[\"eom\"] = pd.to_datetime(hml[\"eom\"], format=\"%Y-%m-%d\")"
   ]
  },
  {
   "cell_type": "markdown",
   "metadata": {},
   "source": [
    "### Choose weighting"
   ]
  },
  {
   "cell_type": "code",
   "execution_count": null,
   "metadata": {},
   "outputs": [
    {
     "data": {
      "application/javascript": "\n            setTimeout(function() {\n                var nbb_cell_id = 15;\n                var nbb_unformatted_code = \"# \\ub098\\ub77c\\ubcc4 portfolio weighting method \\uc815\\ud55c \\uac83\\uc744 ret column\\uc73c\\ub85c \\uc0ac\\uc6a9\\nhml_usa = hml[hml[\\\"excntry\\\"] == \\\"USA\\\"].copy()\\nhml_usa.loc[:, \\\"ret\\\"] = hml_usa.loc[:, [f\\\"ret_{settings['weighting']['us']}\\\"]]\\n\\nhml_ex_usa = hml[hml[\\\"excntry\\\"] != \\\"USA\\\"].copy()\\nhml_ex_usa.loc[:, \\\"ret\\\"] = hml_ex_usa.loc[\\n    :, [f\\\"ret_{settings['weighting']['global_ex_us']}\\\"]\\n]\\n\\nhml = pd.concat([hml_usa, hml_ex_usa])\";\n                var nbb_formatted_code = \"# \\ub098\\ub77c\\ubcc4 portfolio weighting method \\uc815\\ud55c \\uac83\\uc744 ret column\\uc73c\\ub85c \\uc0ac\\uc6a9\\nhml_usa = hml[hml[\\\"excntry\\\"] == \\\"USA\\\"].copy()\\nhml_usa.loc[:, \\\"ret\\\"] = hml_usa.loc[:, [f\\\"ret_{settings['weighting']['us']}\\\"]]\\n\\nhml_ex_usa = hml[hml[\\\"excntry\\\"] != \\\"USA\\\"].copy()\\nhml_ex_usa.loc[:, \\\"ret\\\"] = hml_ex_usa.loc[\\n    :, [f\\\"ret_{settings['weighting']['global_ex_us']}\\\"]\\n]\\n\\nhml = pd.concat([hml_usa, hml_ex_usa])\";\n                var nbb_cells = Jupyter.notebook.get_cells();\n                for (var i = 0; i < nbb_cells.length; ++i) {\n                    if (nbb_cells[i].input_prompt_number == nbb_cell_id) {\n                        if (nbb_cells[i].get_text() == nbb_unformatted_code) {\n                             nbb_cells[i].set_text(nbb_formatted_code);\n                        }\n                        break;\n                    }\n                }\n            }, 500);\n            ",
      "text/plain": [
       "<IPython.core.display.Javascript object>"
      ]
     },
     "metadata": {},
     "output_type": "display_data"
    }
   ],
   "source": [
    "# 나라별 portfolio weighting method 정한 것을 ret column으로 사용\n",
    "hml_usa = hml[hml[\"excntry\"] == \"USA\"].copy()\n",
    "hml_usa.loc[:, \"ret\"] = hml_usa.loc[:, [f\"ret_{settings['weighting']['us']}\"]]\n",
    "\n",
    "hml_ex_usa = hml[hml[\"excntry\"] != \"USA\"].copy()\n",
    "hml_ex_usa.loc[:, \"ret\"] = hml_ex_usa.loc[\n",
    "    :, [f\"ret_{settings['weighting']['global_ex_us']}\"]\n",
    "]\n",
    "\n",
    "hml = pd.concat([hml_usa, hml_ex_usa])"
   ]
  },
  {
   "cell_type": "code",
   "execution_count": null,
   "metadata": {},
   "outputs": [
    {
     "data": {
      "text/html": [
       "<div>\n",
       "<style scoped>\n",
       "    .dataframe tbody tr th:only-of-type {\n",
       "        vertical-align: middle;\n",
       "    }\n",
       "\n",
       "    .dataframe tbody tr th {\n",
       "        vertical-align: top;\n",
       "    }\n",
       "\n",
       "    .dataframe thead th {\n",
       "        text-align: right;\n",
       "    }\n",
       "</style>\n",
       "<table border=\"1\" class=\"dataframe\">\n",
       "  <thead>\n",
       "    <tr style=\"text-align: right;\">\n",
       "      <th></th>\n",
       "      <th>excntry</th>\n",
       "      <th>characteristic</th>\n",
       "      <th>eom</th>\n",
       "      <th>signal</th>\n",
       "      <th>n_stocks</th>\n",
       "      <th>n_stocks_min</th>\n",
       "      <th>ret_ew</th>\n",
       "      <th>ret_vw</th>\n",
       "      <th>ret_vw_cap</th>\n",
       "      <th>ret</th>\n",
       "    </tr>\n",
       "  </thead>\n",
       "  <tbody>\n",
       "    <tr>\n",
       "      <th>2050119</th>\n",
       "      <td>USA</td>\n",
       "      <td>age</td>\n",
       "      <td>1926-03-31</td>\n",
       "      <td>1.0</td>\n",
       "      <td>502</td>\n",
       "      <td>8</td>\n",
       "      <td>0.066167</td>\n",
       "      <td>0.098837</td>\n",
       "      <td>0.086738</td>\n",
       "      <td>0.086738</td>\n",
       "    </tr>\n",
       "    <tr>\n",
       "      <th>2050120</th>\n",
       "      <td>USA</td>\n",
       "      <td>age</td>\n",
       "      <td>1926-04-30</td>\n",
       "      <td>1.0</td>\n",
       "      <td>505</td>\n",
       "      <td>12</td>\n",
       "      <td>-0.010546</td>\n",
       "      <td>0.006303</td>\n",
       "      <td>0.000572</td>\n",
       "      <td>0.000572</td>\n",
       "    </tr>\n",
       "    <tr>\n",
       "      <th>2050121</th>\n",
       "      <td>USA</td>\n",
       "      <td>age</td>\n",
       "      <td>1926-05-31</td>\n",
       "      <td>2.0</td>\n",
       "      <td>510</td>\n",
       "      <td>17</td>\n",
       "      <td>0.020290</td>\n",
       "      <td>0.000190</td>\n",
       "      <td>0.006332</td>\n",
       "      <td>0.006332</td>\n",
       "    </tr>\n",
       "    <tr>\n",
       "      <th>2050122</th>\n",
       "      <td>USA</td>\n",
       "      <td>age</td>\n",
       "      <td>1926-06-30</td>\n",
       "      <td>2.0</td>\n",
       "      <td>512</td>\n",
       "      <td>21</td>\n",
       "      <td>0.008927</td>\n",
       "      <td>0.008323</td>\n",
       "      <td>0.003012</td>\n",
       "      <td>0.003012</td>\n",
       "    </tr>\n",
       "    <tr>\n",
       "      <th>2050123</th>\n",
       "      <td>USA</td>\n",
       "      <td>age</td>\n",
       "      <td>1926-07-31</td>\n",
       "      <td>2.0</td>\n",
       "      <td>503</td>\n",
       "      <td>23</td>\n",
       "      <td>-0.017724</td>\n",
       "      <td>0.004220</td>\n",
       "      <td>-0.003211</td>\n",
       "      <td>-0.003211</td>\n",
       "    </tr>\n",
       "  </tbody>\n",
       "</table>\n",
       "</div>"
      ],
      "text/plain": [
       "        excntry characteristic        eom  signal  n_stocks  n_stocks_min  \\\n",
       "2050119     USA            age 1926-03-31     1.0       502             8   \n",
       "2050120     USA            age 1926-04-30     1.0       505            12   \n",
       "2050121     USA            age 1926-05-31     2.0       510            17   \n",
       "2050122     USA            age 1926-06-30     2.0       512            21   \n",
       "2050123     USA            age 1926-07-31     2.0       503            23   \n",
       "\n",
       "           ret_ew    ret_vw  ret_vw_cap       ret  \n",
       "2050119  0.066167  0.098837    0.086738  0.086738  \n",
       "2050120 -0.010546  0.006303    0.000572  0.000572  \n",
       "2050121  0.020290  0.000190    0.006332  0.006332  \n",
       "2050122  0.008927  0.008323    0.003012  0.003012  \n",
       "2050123 -0.017724  0.004220   -0.003211 -0.003211  "
      ]
     },
     "execution_count": 16,
     "metadata": {},
     "output_type": "execute_result"
    },
    {
     "data": {
      "application/javascript": "\n            setTimeout(function() {\n                var nbb_cell_id = 16;\n                var nbb_unformatted_code = \"hml.head()\";\n                var nbb_formatted_code = \"hml.head()\";\n                var nbb_cells = Jupyter.notebook.get_cells();\n                for (var i = 0; i < nbb_cells.length; ++i) {\n                    if (nbb_cells[i].input_prompt_number == nbb_cell_id) {\n                        if (nbb_cells[i].get_text() == nbb_unformatted_code) {\n                             nbb_cells[i].set_text(nbb_formatted_code);\n                        }\n                        break;\n                    }\n                }\n            }, 500);\n            ",
      "text/plain": [
       "<IPython.core.display.Javascript object>"
      ]
     },
     "metadata": {},
     "output_type": "display_data"
    }
   ],
   "source": [
    "hml.head()"
   ]
  },
  {
   "cell_type": "markdown",
   "metadata": {},
   "source": [
    "## Filter"
   ]
  },
  {
   "cell_type": "code",
   "execution_count": null,
   "metadata": {},
   "outputs": [
    {
     "data": {
      "application/javascript": "\n            setTimeout(function() {\n                var nbb_cell_id = 17;\n                var nbb_unformatted_code = \"hml = hml[\\n    (hml[\\\"characteristic\\\"].isin(base_chars))\\n    & (hml[\\\"eom\\\"] >= settings[\\\"start_date\\\"])\\n    & (hml[\\\"eom\\\"] <= settings[\\\"end_date\\\"])\\n    & (~hml[\\\"ret\\\"].isna())\\n    & (hml[\\\"n_stocks_min\\\"] >= settings[\\\"n_stocks_min\\\"])\\n    & (~hml[\\\"excntry\\\"].isin(settings[\\\"country_excl\\\"]))\\n]\";\n                var nbb_formatted_code = \"hml = hml[\\n    (hml[\\\"characteristic\\\"].isin(base_chars))\\n    & (hml[\\\"eom\\\"] >= settings[\\\"start_date\\\"])\\n    & (hml[\\\"eom\\\"] <= settings[\\\"end_date\\\"])\\n    & (~hml[\\\"ret\\\"].isna())\\n    & (hml[\\\"n_stocks_min\\\"] >= settings[\\\"n_stocks_min\\\"])\\n    & (~hml[\\\"excntry\\\"].isin(settings[\\\"country_excl\\\"]))\\n]\";\n                var nbb_cells = Jupyter.notebook.get_cells();\n                for (var i = 0; i < nbb_cells.length; ++i) {\n                    if (nbb_cells[i].input_prompt_number == nbb_cell_id) {\n                        if (nbb_cells[i].get_text() == nbb_unformatted_code) {\n                             nbb_cells[i].set_text(nbb_formatted_code);\n                        }\n                        break;\n                    }\n                }\n            }, 500);\n            ",
      "text/plain": [
       "<IPython.core.display.Javascript object>"
      ]
     },
     "metadata": {},
     "output_type": "display_data"
    }
   ],
   "source": [
    "hml = hml[\n",
    "    (hml[\"characteristic\"].isin(base_chars))\n",
    "    & (hml[\"eom\"] >= settings[\"start_date\"])\n",
    "    & (hml[\"eom\"] <= settings[\"end_date\"])\n",
    "    & (~hml[\"ret\"].isna())\n",
    "    & (hml[\"n_stocks_min\"] >= settings[\"n_stocks_min\"])\n",
    "    & (~hml[\"excntry\"].isin(settings[\"country_excl\"]))\n",
    "]"
   ]
  },
  {
   "cell_type": "code",
   "execution_count": null,
   "metadata": {},
   "outputs": [
    {
     "data": {
      "application/javascript": "\n            setTimeout(function() {\n                var nbb_cell_id = 18;\n                var nbb_unformatted_code = \"hml = hml.drop(columns=[\\\"signal\\\", \\\"n_stocks_min\\\"])\";\n                var nbb_formatted_code = \"hml = hml.drop(columns=[\\\"signal\\\", \\\"n_stocks_min\\\"])\";\n                var nbb_cells = Jupyter.notebook.get_cells();\n                for (var i = 0; i < nbb_cells.length; ++i) {\n                    if (nbb_cells[i].input_prompt_number == nbb_cell_id) {\n                        if (nbb_cells[i].get_text() == nbb_unformatted_code) {\n                             nbb_cells[i].set_text(nbb_formatted_code);\n                        }\n                        break;\n                    }\n                }\n            }, 500);\n            ",
      "text/plain": [
       "<IPython.core.display.Javascript object>"
      ]
     },
     "metadata": {},
     "output_type": "display_data"
    }
   ],
   "source": [
    "hml = hml.drop(columns=[\"signal\", \"n_stocks_min\"])"
   ]
  },
  {
   "cell_type": "code",
   "execution_count": null,
   "metadata": {},
   "outputs": [
    {
     "data": {
      "text/html": [
       "<div>\n",
       "<style scoped>\n",
       "    .dataframe tbody tr th:only-of-type {\n",
       "        vertical-align: middle;\n",
       "    }\n",
       "\n",
       "    .dataframe tbody tr th {\n",
       "        vertical-align: top;\n",
       "    }\n",
       "\n",
       "    .dataframe thead th {\n",
       "        text-align: right;\n",
       "    }\n",
       "</style>\n",
       "<table border=\"1\" class=\"dataframe\">\n",
       "  <thead>\n",
       "    <tr style=\"text-align: right;\">\n",
       "      <th></th>\n",
       "      <th>excntry</th>\n",
       "      <th>characteristic</th>\n",
       "      <th>eom</th>\n",
       "      <th>n_stocks</th>\n",
       "      <th>ret_ew</th>\n",
       "      <th>ret_vw</th>\n",
       "      <th>ret_vw_cap</th>\n",
       "      <th>ret</th>\n",
       "    </tr>\n",
       "  </thead>\n",
       "  <tbody>\n",
       "    <tr>\n",
       "      <th>2050119</th>\n",
       "      <td>USA</td>\n",
       "      <td>age</td>\n",
       "      <td>1926-03-31</td>\n",
       "      <td>502</td>\n",
       "      <td>0.066167</td>\n",
       "      <td>0.098837</td>\n",
       "      <td>0.086738</td>\n",
       "      <td>0.086738</td>\n",
       "    </tr>\n",
       "    <tr>\n",
       "      <th>2050120</th>\n",
       "      <td>USA</td>\n",
       "      <td>age</td>\n",
       "      <td>1926-04-30</td>\n",
       "      <td>505</td>\n",
       "      <td>-0.010546</td>\n",
       "      <td>0.006303</td>\n",
       "      <td>0.000572</td>\n",
       "      <td>0.000572</td>\n",
       "    </tr>\n",
       "    <tr>\n",
       "      <th>2050121</th>\n",
       "      <td>USA</td>\n",
       "      <td>age</td>\n",
       "      <td>1926-05-31</td>\n",
       "      <td>510</td>\n",
       "      <td>0.020290</td>\n",
       "      <td>0.000190</td>\n",
       "      <td>0.006332</td>\n",
       "      <td>0.006332</td>\n",
       "    </tr>\n",
       "    <tr>\n",
       "      <th>2050122</th>\n",
       "      <td>USA</td>\n",
       "      <td>age</td>\n",
       "      <td>1926-06-30</td>\n",
       "      <td>512</td>\n",
       "      <td>0.008927</td>\n",
       "      <td>0.008323</td>\n",
       "      <td>0.003012</td>\n",
       "      <td>0.003012</td>\n",
       "    </tr>\n",
       "    <tr>\n",
       "      <th>2050123</th>\n",
       "      <td>USA</td>\n",
       "      <td>age</td>\n",
       "      <td>1926-07-31</td>\n",
       "      <td>503</td>\n",
       "      <td>-0.017724</td>\n",
       "      <td>0.004220</td>\n",
       "      <td>-0.003211</td>\n",
       "      <td>-0.003211</td>\n",
       "    </tr>\n",
       "  </tbody>\n",
       "</table>\n",
       "</div>"
      ],
      "text/plain": [
       "        excntry characteristic        eom  n_stocks    ret_ew    ret_vw  \\\n",
       "2050119     USA            age 1926-03-31       502  0.066167  0.098837   \n",
       "2050120     USA            age 1926-04-30       505 -0.010546  0.006303   \n",
       "2050121     USA            age 1926-05-31       510  0.020290  0.000190   \n",
       "2050122     USA            age 1926-06-30       512  0.008927  0.008323   \n",
       "2050123     USA            age 1926-07-31       503 -0.017724  0.004220   \n",
       "\n",
       "         ret_vw_cap       ret  \n",
       "2050119    0.086738  0.086738  \n",
       "2050120    0.000572  0.000572  \n",
       "2050121    0.006332  0.006332  \n",
       "2050122    0.003012  0.003012  \n",
       "2050123   -0.003211 -0.003211  "
      ]
     },
     "execution_count": 19,
     "metadata": {},
     "output_type": "execute_result"
    },
    {
     "data": {
      "application/javascript": "\n            setTimeout(function() {\n                var nbb_cell_id = 19;\n                var nbb_unformatted_code = \"hml.head()\";\n                var nbb_formatted_code = \"hml.head()\";\n                var nbb_cells = Jupyter.notebook.get_cells();\n                for (var i = 0; i < nbb_cells.length; ++i) {\n                    if (nbb_cells[i].input_prompt_number == nbb_cell_id) {\n                        if (nbb_cells[i].get_text() == nbb_unformatted_code) {\n                             nbb_cells[i].set_text(nbb_formatted_code);\n                        }\n                        break;\n                    }\n                }\n            }, 500);\n            ",
      "text/plain": [
       "<IPython.core.display.Javascript object>"
      ]
     },
     "metadata": {},
     "output_type": "display_data"
    }
   ],
   "source": [
    "hml.head()"
   ]
  },
  {
   "cell_type": "markdown",
   "metadata": {},
   "source": [
    "### Set direction as original study"
   ]
  },
  {
   "cell_type": "code",
   "execution_count": null,
   "metadata": {},
   "outputs": [
    {
     "data": {
      "application/javascript": "\n            setTimeout(function() {\n                var nbb_cell_id = 20;\n                var nbb_unformatted_code = \"hml = hml.merge(\\n    char_info[[\\\"characteristic\\\", \\\"direction\\\"]], on=\\\"characteristic\\\", how=\\\"left\\\"\\n)\\nhml[\\\"ret\\\"] = hml[\\\"ret\\\"] * hml[\\\"direction\\\"]\\nhml = hml.drop(columns=[\\\"ret_vw\\\", \\\"ret_ew\\\", \\\"ret_vw_cap\\\"])\";\n                var nbb_formatted_code = \"hml = hml.merge(\\n    char_info[[\\\"characteristic\\\", \\\"direction\\\"]], on=\\\"characteristic\\\", how=\\\"left\\\"\\n)\\nhml[\\\"ret\\\"] = hml[\\\"ret\\\"] * hml[\\\"direction\\\"]\\nhml = hml.drop(columns=[\\\"ret_vw\\\", \\\"ret_ew\\\", \\\"ret_vw_cap\\\"])\";\n                var nbb_cells = Jupyter.notebook.get_cells();\n                for (var i = 0; i < nbb_cells.length; ++i) {\n                    if (nbb_cells[i].input_prompt_number == nbb_cell_id) {\n                        if (nbb_cells[i].get_text() == nbb_unformatted_code) {\n                             nbb_cells[i].set_text(nbb_formatted_code);\n                        }\n                        break;\n                    }\n                }\n            }, 500);\n            ",
      "text/plain": [
       "<IPython.core.display.Javascript object>"
      ]
     },
     "metadata": {},
     "output_type": "display_data"
    }
   ],
   "source": [
    "hml = hml.merge(\n",
    "    char_info[[\"characteristic\", \"direction\"]], on=\"characteristic\", how=\"left\"\n",
    ")\n",
    "hml[\"ret\"] = hml[\"ret\"] * hml[\"direction\"]\n",
    "hml = hml.drop(columns=[\"ret_vw\", \"ret_ew\", \"ret_vw_cap\"])"
   ]
  },
  {
   "cell_type": "markdown",
   "metadata": {},
   "source": [
    "데이터 중복 check"
   ]
  },
  {
   "cell_type": "code",
   "execution_count": null,
   "metadata": {},
   "outputs": [
    {
     "data": {
      "application/javascript": "\n            setTimeout(function() {\n                var nbb_cell_id = 21;\n                var nbb_unformatted_code = \"if hml.duplicated(subset=[\\\"characteristic\\\", \\\"excntry\\\", \\\"eom\\\"]).any():\\n    raise Exception(\\\"HML is duplicated\\\")\";\n                var nbb_formatted_code = \"if hml.duplicated(subset=[\\\"characteristic\\\", \\\"excntry\\\", \\\"eom\\\"]).any():\\n    raise Exception(\\\"HML is duplicated\\\")\";\n                var nbb_cells = Jupyter.notebook.get_cells();\n                for (var i = 0; i < nbb_cells.length; ++i) {\n                    if (nbb_cells[i].input_prompt_number == nbb_cell_id) {\n                        if (nbb_cells[i].get_text() == nbb_unformatted_code) {\n                             nbb_cells[i].set_text(nbb_formatted_code);\n                        }\n                        break;\n                    }\n                }\n            }, 500);\n            ",
      "text/plain": [
       "<IPython.core.display.Javascript object>"
      ]
     },
     "metadata": {},
     "output_type": "display_data"
    }
   ],
   "source": [
    "if hml.duplicated(subset=[\"characteristic\", \"excntry\", \"eom\"]).any():\n",
    "    raise Exception(\"HML is duplicated\")"
   ]
  },
  {
   "cell_type": "markdown",
   "metadata": {},
   "source": [
    "## Regional Portfolios"
   ]
  },
  {
   "cell_type": "code",
   "execution_count": null,
   "metadata": {},
   "outputs": [
    {
     "data": {
      "application/javascript": "\n            setTimeout(function() {\n                var nbb_cell_id = 33;\n                var nbb_unformatted_code = \"def regional_data(data, market_returns, countries, weighting, countries_min, months_min, size_grps=False):\\n    __market_returns = market_returns.copy()\\n    __data = data.copy()\\n\\n    __weights = __market_returns[__market_returns[\\\"excntry\\\"].isin(countries)].copy()\\n    # \\ucd1d \\uc2dc\\uc7a5 \\uc790\\ubcf8 \\uaddc\\ubaa8\\ub85c \\uc815\\uc758\\n    __weights[\\\"country_weight\\\"] = __weights.apply(\\n        lambda x: (\\n            x[\\\"me_lag1\\\"]\\n            if weighting == \\\"market_cap\\\"\\n            else (x[\\\"stocks\\\"] if weighting == \\\"stocks\\\" else 1)\\n        ),\\n        axis=1,\\n    )\\n    __pf = __data[__data[\\\"excntry\\\"].isin(countries)].merge(\\n        __weights[[\\\"excntry\\\", \\\"eom\\\", \\\"country_weight\\\", \\\"mkt_vw_exc\\\"]],\\n        on=[\\\"excntry\\\", \\\"eom\\\"],\\n        how=\\\"left\\\",\\n    )\\n\\n    if size_grps:\\n        __pf = __pf.groupby(['characteristic', 'size_grp', 'eom']).agg(\\n            n=('ret', 'size'),\\n            ret=('ret', lambda x: np.average(x, weights=__pf.loc[x.index, 'country_weight'])),\\n            mkt_vw_exc=('mkt_vw_exc', lambda x: np.average(x, weights=__pf.loc[x.index, 'country_weight']))\\n        ).reset_index()\\n    else:\\n        __pf = (\\n            __pf.groupby([\\\"characteristic\\\", \\\"eom\\\"])\\n            .agg(\\n                n=(\\\"ret\\\", \\\"size\\\"),\\n                # Country Return\\uc744 Country weight\\ub85c \\uacb0\\ud569\\ud574\\uc11c \\uc120\\ud615 \\uacb0\\ud569\\ud568\\n                ret=(\\n                    \\\"ret\\\",\\n                    lambda x: np.average(x, weights=__pf.loc[x.index, \\\"country_weight\\\"]),\\n                ),\\n                # USD \\uac00\\ucda9\\ucd08\\uacfc \\uc218\\uc775\\ub960\\uc744 Return\\uc744 Country weight\\ub85c \\uacb0\\ud569\\ud574\\uc11c \\uc120\\ud615 \\uacb0\\ud569\\ud568\\n                mkt_vw_exc=(\\n                    \\\"mkt_vw_exc\\\",\\n                    lambda x: np.average(x, weights=__pf.loc[x.index, \\\"country_weight\\\"]),\\n                ),\\n            )\\n            .reset_index()\\n        )\\n\\n\\n\\n    # \\ucd5c\\uc18c \\uad6d\\uac00 \\ucc98\\ub9ac: Countries\\n    __pf = __pf[__pf['n'] >= countries_min]\\n\\n    # Factor \\uc218\\uc775\\ub960 \\uae30\\uac04 \\ud544\\ud130\\ub9c1\\n    __pf['months'] = __pf.groupby('characteristic')['eom'].transform('size')\\n    __pf = __pf[__pf['months'] >= months_min]\\n    return __pf.copy()    \";\n                var nbb_formatted_code = \"def regional_data(\\n    data,\\n    market_returns,\\n    countries,\\n    weighting,\\n    countries_min,\\n    months_min,\\n    size_grps=False,\\n):\\n    __market_returns = market_returns.copy()\\n    __data = data.copy()\\n\\n    __weights = __market_returns[__market_returns[\\\"excntry\\\"].isin(countries)].copy()\\n    # \\ucd1d \\uc2dc\\uc7a5 \\uc790\\ubcf8 \\uaddc\\ubaa8\\ub85c \\uc815\\uc758\\n    __weights[\\\"country_weight\\\"] = __weights.apply(\\n        lambda x: (\\n            x[\\\"me_lag1\\\"]\\n            if weighting == \\\"market_cap\\\"\\n            else (x[\\\"stocks\\\"] if weighting == \\\"stocks\\\" else 1)\\n        ),\\n        axis=1,\\n    )\\n    __pf = __data[__data[\\\"excntry\\\"].isin(countries)].merge(\\n        __weights[[\\\"excntry\\\", \\\"eom\\\", \\\"country_weight\\\", \\\"mkt_vw_exc\\\"]],\\n        on=[\\\"excntry\\\", \\\"eom\\\"],\\n        how=\\\"left\\\",\\n    )\\n\\n    if size_grps:\\n        __pf = (\\n            __pf.groupby([\\\"characteristic\\\", \\\"size_grp\\\", \\\"eom\\\"])\\n            .agg(\\n                n=(\\\"ret\\\", \\\"size\\\"),\\n                ret=(\\n                    \\\"ret\\\",\\n                    lambda x: np.average(\\n                        x, weights=__pf.loc[x.index, \\\"country_weight\\\"]\\n                    ),\\n                ),\\n                mkt_vw_exc=(\\n                    \\\"mkt_vw_exc\\\",\\n                    lambda x: np.average(\\n                        x, weights=__pf.loc[x.index, \\\"country_weight\\\"]\\n                    ),\\n                ),\\n            )\\n            .reset_index()\\n        )\\n    else:\\n        __pf = (\\n            __pf.groupby([\\\"characteristic\\\", \\\"eom\\\"])\\n            .agg(\\n                n=(\\\"ret\\\", \\\"size\\\"),\\n                # Country Return\\uc744 Country weight\\ub85c \\uacb0\\ud569\\ud574\\uc11c \\uc120\\ud615 \\uacb0\\ud569\\ud568\\n                ret=(\\n                    \\\"ret\\\",\\n                    lambda x: np.average(\\n                        x, weights=__pf.loc[x.index, \\\"country_weight\\\"]\\n                    ),\\n                ),\\n                # USD \\uac00\\ucda9\\ucd08\\uacfc \\uc218\\uc775\\ub960\\uc744 Return\\uc744 Country weight\\ub85c \\uacb0\\ud569\\ud574\\uc11c \\uc120\\ud615 \\uacb0\\ud569\\ud568\\n                mkt_vw_exc=(\\n                    \\\"mkt_vw_exc\\\",\\n                    lambda x: np.average(\\n                        x, weights=__pf.loc[x.index, \\\"country_weight\\\"]\\n                    ),\\n                ),\\n            )\\n            .reset_index()\\n        )\\n\\n    # \\ucd5c\\uc18c \\uad6d\\uac00 \\ucc98\\ub9ac: Countries\\n    __pf = __pf[__pf[\\\"n\\\"] >= countries_min]\\n\\n    # Factor \\uc218\\uc775\\ub960 \\uae30\\uac04 \\ud544\\ud130\\ub9c1\\n    __pf[\\\"months\\\"] = __pf.groupby(\\\"characteristic\\\")[\\\"eom\\\"].transform(\\\"size\\\")\\n    __pf = __pf[__pf[\\\"months\\\"] >= months_min]\\n    return __pf.copy()\";\n                var nbb_cells = Jupyter.notebook.get_cells();\n                for (var i = 0; i < nbb_cells.length; ++i) {\n                    if (nbb_cells[i].input_prompt_number == nbb_cell_id) {\n                        if (nbb_cells[i].get_text() == nbb_unformatted_code) {\n                             nbb_cells[i].set_text(nbb_formatted_code);\n                        }\n                        break;\n                    }\n                }\n            }, 500);\n            ",
      "text/plain": [
       "<IPython.core.display.Javascript object>"
      ]
     },
     "metadata": {},
     "output_type": "display_data"
    }
   ],
   "source": [
    "def regional_data(data, market_returns, countries, weighting, countries_min, months_min, size_grps=False):\n",
    "    __market_returns = market_returns.copy()\n",
    "    __data = data.copy()\n",
    "\n",
    "    __weights = __market_returns[__market_returns[\"excntry\"].isin(countries)].copy()\n",
    "    # 총 시장 자본 규모로 정의\n",
    "    __weights[\"country_weight\"] = __weights.apply(\n",
    "        lambda x: (\n",
    "            x[\"me_lag1\"]\n",
    "            if weighting == \"market_cap\"\n",
    "            else (x[\"stocks\"] if weighting == \"stocks\" else 1)\n",
    "        ),\n",
    "        axis=1,\n",
    "    )\n",
    "    __pf = __data[__data[\"excntry\"].isin(countries)].merge(\n",
    "        __weights[[\"excntry\", \"eom\", \"country_weight\", \"mkt_vw_exc\"]],\n",
    "        on=[\"excntry\", \"eom\"],\n",
    "        how=\"left\",\n",
    "    )\n",
    "\n",
    "    if size_grps:\n",
    "        __pf = __pf.groupby(['characteristic', 'size_grp', 'eom']).agg(\n",
    "            n=('ret', 'size'),\n",
    "            ret=('ret', lambda x: np.average(x, weights=__pf.loc[x.index, 'country_weight'])),\n",
    "            mkt_vw_exc=('mkt_vw_exc', lambda x: np.average(x, weights=__pf.loc[x.index, 'country_weight']))\n",
    "        ).reset_index()\n",
    "    else:\n",
    "        __pf = (\n",
    "            __pf.groupby([\"characteristic\", \"eom\"])\n",
    "            .agg(\n",
    "                n=(\"ret\", \"size\"),\n",
    "                # Country Return을 Country weight로 결합해서 선형 결합함\n",
    "                ret=(\n",
    "                    \"ret\",\n",
    "                    lambda x: np.average(x, weights=__pf.loc[x.index, \"country_weight\"]),\n",
    "                ),\n",
    "                # USD 가충초과 수익률을 Return을 Country weight로 결합해서 선형 결합함\n",
    "                mkt_vw_exc=(\n",
    "                    \"mkt_vw_exc\",\n",
    "                    lambda x: np.average(x, weights=__pf.loc[x.index, \"country_weight\"]),\n",
    "                ),\n",
    "            )\n",
    "            .reset_index()\n",
    "        )\n",
    "\n",
    "\n",
    "\n",
    "    # 최소 국가 처리: Countries\n",
    "    __pf = __pf[__pf['n'] >= countries_min]\n",
    "\n",
    "    # Factor 수익률 기간 필터링\n",
    "    __pf['months'] = __pf.groupby('characteristic')['eom'].transform('size')\n",
    "    __pf = __pf[__pf['months'] >= months_min]\n",
    "    return __pf.copy()    "
   ]
  },
  {
   "cell_type": "code",
   "execution_count": null,
   "metadata": {},
   "outputs": [
    {
     "name": "stderr",
     "output_type": "stream",
     "text": [
      "  0%|          | 0/6 [00:00<?, ?it/s]"
     ]
    },
    {
     "name": "stderr",
     "output_type": "stream",
     "text": [
      "100%|██████████| 6/6 [00:00<00:00, 12.01it/s]\n"
     ]
    },
    {
     "data": {
      "application/javascript": "\n            setTimeout(function() {\n                var nbb_cell_id = 23;\n                var nbb_unformatted_code = \"iter_list = []\\nfor key in tqdm(list(region_info.keys())):\\n    countries = region_info[key][\\\"country_codes\\\"]\\n    weighting = settings[\\\"country_weighting\\\"]\\n    countries_min = region_info[key][\\\"countries_min\\\"]\\n    months_min = settings[\\\"months_min\\\"]\\n    data = hml.copy()\\n    iter_list.append(\\n        {\\n            \\\"data\\\": hml.copy(),\\n            \\\"market_returns\\\": market_returns.copy(), \\n            \\\"countries\\\": countries, \\n            \\\"weighting\\\": weighting, \\n            \\\"countries_min\\\": countries_min, \\n            \\\"months_min\\\": months_min, \\n        }\\n    )\";\n                var nbb_formatted_code = \"iter_list = []\\nfor key in tqdm(list(region_info.keys())):\\n    countries = region_info[key][\\\"country_codes\\\"]\\n    weighting = settings[\\\"country_weighting\\\"]\\n    countries_min = region_info[key][\\\"countries_min\\\"]\\n    months_min = settings[\\\"months_min\\\"]\\n    data = hml.copy()\\n    iter_list.append(\\n        {\\n            \\\"data\\\": hml.copy(),\\n            \\\"market_returns\\\": market_returns.copy(),\\n            \\\"countries\\\": countries,\\n            \\\"weighting\\\": weighting,\\n            \\\"countries_min\\\": countries_min,\\n            \\\"months_min\\\": months_min,\\n        }\\n    )\";\n                var nbb_cells = Jupyter.notebook.get_cells();\n                for (var i = 0; i < nbb_cells.length; ++i) {\n                    if (nbb_cells[i].input_prompt_number == nbb_cell_id) {\n                        if (nbb_cells[i].get_text() == nbb_unformatted_code) {\n                             nbb_cells[i].set_text(nbb_formatted_code);\n                        }\n                        break;\n                    }\n                }\n            }, 500);\n            ",
      "text/plain": [
       "<IPython.core.display.Javascript object>"
      ]
     },
     "metadata": {},
     "output_type": "display_data"
    }
   ],
   "source": [
    "iter_list = []\n",
    "for key in tqdm(list(region_info.keys())):\n",
    "    countries = region_info[key][\"country_codes\"]\n",
    "    weighting = settings[\"country_weighting\"]\n",
    "    countries_min = region_info[key][\"countries_min\"]\n",
    "    months_min = settings[\"months_min\"]\n",
    "    data = hml.copy()\n",
    "    iter_list.append(\n",
    "        {\n",
    "            \"data\": hml.copy(),\n",
    "            \"market_returns\": market_returns.copy(), \n",
    "            \"countries\": countries, \n",
    "            \"weighting\": weighting, \n",
    "            \"countries_min\": countries_min, \n",
    "            \"months_min\": months_min, \n",
    "        }\n",
    "    )"
   ]
  },
  {
   "cell_type": "code",
   "execution_count": null,
   "metadata": {},
   "outputs": [
    {
     "data": {
      "application/javascript": "\n            setTimeout(function() {\n                var nbb_cell_id = 24;\n                var nbb_unformatted_code = \"parallel = Parallel(n_jobs=8, verbose=True)\";\n                var nbb_formatted_code = \"parallel = Parallel(n_jobs=8, verbose=True)\";\n                var nbb_cells = Jupyter.notebook.get_cells();\n                for (var i = 0; i < nbb_cells.length; ++i) {\n                    if (nbb_cells[i].input_prompt_number == nbb_cell_id) {\n                        if (nbb_cells[i].get_text() == nbb_unformatted_code) {\n                             nbb_cells[i].set_text(nbb_formatted_code);\n                        }\n                        break;\n                    }\n                }\n            }, 500);\n            ",
      "text/plain": [
       "<IPython.core.display.Javascript object>"
      ]
     },
     "metadata": {},
     "output_type": "display_data"
    }
   ],
   "source": [
    "parallel = Parallel(n_jobs=8, verbose=True)"
   ]
  },
  {
   "cell_type": "code",
   "execution_count": null,
   "metadata": {},
   "outputs": [
    {
     "name": "stderr",
     "output_type": "stream",
     "text": [
      "[Parallel(n_jobs=8)]: Using backend LokyBackend with 8 concurrent workers.\n",
      "[Parallel(n_jobs=8)]: Done   6 out of   6 | elapsed:   26.7s finished\n"
     ]
    },
    {
     "data": {
      "application/javascript": "\n            setTimeout(function() {\n                var nbb_cell_id = 25;\n                var nbb_unformatted_code = \"region_pf_list = parallel(delayed(regional_data)(**i) for i in iter_list)\";\n                var nbb_formatted_code = \"region_pf_list = parallel(delayed(regional_data)(**i) for i in iter_list)\";\n                var nbb_cells = Jupyter.notebook.get_cells();\n                for (var i = 0; i < nbb_cells.length; ++i) {\n                    if (nbb_cells[i].input_prompt_number == nbb_cell_id) {\n                        if (nbb_cells[i].get_text() == nbb_unformatted_code) {\n                             nbb_cells[i].set_text(nbb_formatted_code);\n                        }\n                        break;\n                    }\n                }\n            }, 500);\n            ",
      "text/plain": [
       "<IPython.core.display.Javascript object>"
      ]
     },
     "metadata": {},
     "output_type": "display_data"
    }
   ],
   "source": [
    "region_pf_list = parallel(delayed(regional_data)(**i) for i in iter_list)"
   ]
  },
  {
   "cell_type": "code",
   "execution_count": null,
   "metadata": {},
   "outputs": [
    {
     "data": {
      "application/javascript": "\n            setTimeout(function() {\n                var nbb_cell_id = 26;\n                var nbb_unformatted_code = \"regional_pfs = pd.concat(region_pf_list)\";\n                var nbb_formatted_code = \"regional_pfs = pd.concat(region_pf_list)\";\n                var nbb_cells = Jupyter.notebook.get_cells();\n                for (var i = 0; i < nbb_cells.length; ++i) {\n                    if (nbb_cells[i].input_prompt_number == nbb_cell_id) {\n                        if (nbb_cells[i].get_text() == nbb_unformatted_code) {\n                             nbb_cells[i].set_text(nbb_formatted_code);\n                        }\n                        break;\n                    }\n                }\n            }, 500);\n            ",
      "text/plain": [
       "<IPython.core.display.Javascript object>"
      ]
     },
     "metadata": {},
     "output_type": "display_data"
    }
   ],
   "source": [
    "regional_pfs = pd.concat(region_pf_list)"
   ]
  },
  {
   "cell_type": "code",
   "execution_count": null,
   "metadata": {},
   "outputs": [
    {
     "data": {
      "text/html": [
       "<div>\n",
       "<style scoped>\n",
       "    .dataframe tbody tr th:only-of-type {\n",
       "        vertical-align: middle;\n",
       "    }\n",
       "\n",
       "    .dataframe tbody tr th {\n",
       "        vertical-align: top;\n",
       "    }\n",
       "\n",
       "    .dataframe thead th {\n",
       "        text-align: right;\n",
       "    }\n",
       "</style>\n",
       "<table border=\"1\" class=\"dataframe\">\n",
       "  <thead>\n",
       "    <tr style=\"text-align: right;\">\n",
       "      <th></th>\n",
       "      <th>characteristic</th>\n",
       "      <th>eom</th>\n",
       "      <th>n</th>\n",
       "      <th>ret</th>\n",
       "      <th>mkt_vw_exc</th>\n",
       "      <th>months</th>\n",
       "    </tr>\n",
       "  </thead>\n",
       "  <tbody>\n",
       "    <tr>\n",
       "      <th>68826</th>\n",
       "      <td>zero_trades_252d</td>\n",
       "      <td>2020-08-31</td>\n",
       "      <td>51</td>\n",
       "      <td>-0.002759</td>\n",
       "      <td>0.045821</td>\n",
       "      <td>333</td>\n",
       "    </tr>\n",
       "    <tr>\n",
       "      <th>68827</th>\n",
       "      <td>zero_trades_252d</td>\n",
       "      <td>2020-09-30</td>\n",
       "      <td>51</td>\n",
       "      <td>0.011594</td>\n",
       "      <td>-0.025302</td>\n",
       "      <td>333</td>\n",
       "    </tr>\n",
       "    <tr>\n",
       "      <th>68828</th>\n",
       "      <td>zero_trades_252d</td>\n",
       "      <td>2020-10-31</td>\n",
       "      <td>51</td>\n",
       "      <td>0.010563</td>\n",
       "      <td>-0.011245</td>\n",
       "      <td>333</td>\n",
       "    </tr>\n",
       "    <tr>\n",
       "      <th>68829</th>\n",
       "      <td>zero_trades_252d</td>\n",
       "      <td>2020-11-30</td>\n",
       "      <td>51</td>\n",
       "      <td>-0.036397</td>\n",
       "      <td>0.112102</td>\n",
       "      <td>333</td>\n",
       "    </tr>\n",
       "    <tr>\n",
       "      <th>68830</th>\n",
       "      <td>zero_trades_252d</td>\n",
       "      <td>2020-12-31</td>\n",
       "      <td>51</td>\n",
       "      <td>-0.005676</td>\n",
       "      <td>0.051994</td>\n",
       "      <td>333</td>\n",
       "    </tr>\n",
       "  </tbody>\n",
       "</table>\n",
       "</div>"
      ],
      "text/plain": [
       "         characteristic        eom   n       ret  mkt_vw_exc  months\n",
       "68826  zero_trades_252d 2020-08-31  51 -0.002759    0.045821     333\n",
       "68827  zero_trades_252d 2020-09-30  51  0.011594   -0.025302     333\n",
       "68828  zero_trades_252d 2020-10-31  51  0.010563   -0.011245     333\n",
       "68829  zero_trades_252d 2020-11-30  51 -0.036397    0.112102     333\n",
       "68830  zero_trades_252d 2020-12-31  51 -0.005676    0.051994     333"
      ]
     },
     "execution_count": 27,
     "metadata": {},
     "output_type": "execute_result"
    },
    {
     "data": {
      "application/javascript": "\n            setTimeout(function() {\n                var nbb_cell_id = 27;\n                var nbb_unformatted_code = \"regional_pfs.tail()\";\n                var nbb_formatted_code = \"regional_pfs.tail()\";\n                var nbb_cells = Jupyter.notebook.get_cells();\n                for (var i = 0; i < nbb_cells.length; ++i) {\n                    if (nbb_cells[i].input_prompt_number == nbb_cell_id) {\n                        if (nbb_cells[i].get_text() == nbb_unformatted_code) {\n                             nbb_cells[i].set_text(nbb_formatted_code);\n                        }\n                        break;\n                    }\n                }\n            }, 500);\n            ",
      "text/plain": [
       "<IPython.core.display.Javascript object>"
      ]
     },
     "metadata": {},
     "output_type": "display_data"
    }
   ],
   "source": [
    "regional_pfs.tail()"
   ]
  },
  {
   "cell_type": "code",
   "execution_count": null,
   "metadata": {},
   "outputs": [
    {
     "data": {
      "application/javascript": "\n            setTimeout(function() {\n                var nbb_cell_id = 57;\n                var nbb_unformatted_code = \"regional_pfs.to_parquet(\\\"result/regional_pfs.parquet\\\")\";\n                var nbb_formatted_code = \"regional_pfs.to_parquet(\\\"result/regional_pfs.parquet\\\")\";\n                var nbb_cells = Jupyter.notebook.get_cells();\n                for (var i = 0; i < nbb_cells.length; ++i) {\n                    if (nbb_cells[i].input_prompt_number == nbb_cell_id) {\n                        if (nbb_cells[i].get_text() == nbb_unformatted_code) {\n                             nbb_cells[i].set_text(nbb_formatted_code);\n                        }\n                        break;\n                    }\n                }\n            }, 500);\n            ",
      "text/plain": [
       "<IPython.core.display.Javascript object>"
      ]
     },
     "metadata": {},
     "output_type": "display_data"
    }
   ],
   "source": [
    "regional_pfs.to_parquet(save_path / \"regional_pfs.parquet\")"
   ]
  },
  {
   "cell_type": "markdown",
   "metadata": {},
   "source": [
    "## Characteristic Managed Portfolios"
   ]
  },
  {
   "cell_type": "code",
   "execution_count": null,
   "metadata": {},
   "outputs": [
    {
     "data": {
      "application/javascript": "\n            setTimeout(function() {\n                var nbb_cell_id = 28;\n                var nbb_unformatted_code = \"cmp = pd.read_csv(f\\\"Data/cmp.csv\\\")\\ncmp[\\\"eom\\\"] = pd.to_datetime(cmp[\\\"eom\\\"])\";\n                var nbb_formatted_code = \"cmp = pd.read_csv(f\\\"Data/cmp.csv\\\")\\ncmp[\\\"eom\\\"] = pd.to_datetime(cmp[\\\"eom\\\"])\";\n                var nbb_cells = Jupyter.notebook.get_cells();\n                for (var i = 0; i < nbb_cells.length; ++i) {\n                    if (nbb_cells[i].input_prompt_number == nbb_cell_id) {\n                        if (nbb_cells[i].get_text() == nbb_unformatted_code) {\n                             nbb_cells[i].set_text(nbb_formatted_code);\n                        }\n                        break;\n                    }\n                }\n            }, 500);\n            ",
      "text/plain": [
       "<IPython.core.display.Javascript object>"
      ]
     },
     "metadata": {},
     "output_type": "display_data"
    }
   ],
   "source": [
    "cmp = pd.read_csv(data_path / \"cmp.csv\")\n",
    "cmp[\"eom\"] = pd.to_datetime(cmp[\"eom\"])"
   ]
  },
  {
   "cell_type": "code",
   "execution_count": null,
   "metadata": {},
   "outputs": [
    {
     "data": {
      "application/javascript": "\n            setTimeout(function() {\n                var nbb_cell_id = 29;\n                var nbb_unformatted_code = \"cmp = cmp.rename(columns={'ret_weighted': 'ret'})\\ncmp = cmp[\\n    (cmp['characteristic'].isin(base_chars)) &\\n    (cmp['eom'] >= settings['start_date']) &\\n    (cmp['eom'] <= settings['end_date']) &\\n    (~cmp['ret'].isna()) &\\n    (cmp['signal_weighted'] != 0) &\\n    (cmp['n_stocks'] >= settings['n_stocks_min'] * 2) &\\n    (~cmp['excntry'].isin(settings['country_excl']))\\n]\\ncmp = cmp.drop(columns=['signal_weighted', 'n_stocks'])\";\n                var nbb_formatted_code = \"cmp = cmp.rename(columns={\\\"ret_weighted\\\": \\\"ret\\\"})\\ncmp = cmp[\\n    (cmp[\\\"characteristic\\\"].isin(base_chars))\\n    & (cmp[\\\"eom\\\"] >= settings[\\\"start_date\\\"])\\n    & (cmp[\\\"eom\\\"] <= settings[\\\"end_date\\\"])\\n    & (~cmp[\\\"ret\\\"].isna())\\n    & (cmp[\\\"signal_weighted\\\"] != 0)\\n    & (cmp[\\\"n_stocks\\\"] >= settings[\\\"n_stocks_min\\\"] * 2)\\n    & (~cmp[\\\"excntry\\\"].isin(settings[\\\"country_excl\\\"]))\\n]\\ncmp = cmp.drop(columns=[\\\"signal_weighted\\\", \\\"n_stocks\\\"])\";\n                var nbb_cells = Jupyter.notebook.get_cells();\n                for (var i = 0; i < nbb_cells.length; ++i) {\n                    if (nbb_cells[i].input_prompt_number == nbb_cell_id) {\n                        if (nbb_cells[i].get_text() == nbb_unformatted_code) {\n                             nbb_cells[i].set_text(nbb_formatted_code);\n                        }\n                        break;\n                    }\n                }\n            }, 500);\n            ",
      "text/plain": [
       "<IPython.core.display.Javascript object>"
      ]
     },
     "metadata": {},
     "output_type": "display_data"
    }
   ],
   "source": [
    "cmp = cmp.rename(columns={'ret_weighted': 'ret'})\n",
    "cmp = cmp[\n",
    "    (cmp['characteristic'].isin(base_chars)) &\n",
    "    (cmp['eom'] >= settings['start_date']) &\n",
    "    (cmp['eom'] <= settings['end_date']) &\n",
    "    (~cmp['ret'].isna()) &\n",
    "    (cmp['signal_weighted'] != 0) &\n",
    "    (cmp['n_stocks'] >= settings['n_stocks_min'] * 2) &\n",
    "    (~cmp['excntry'].isin(settings['country_excl']))\n",
    "]\n",
    "cmp = cmp.drop(columns=['signal_weighted', 'n_stocks'])"
   ]
  },
  {
   "cell_type": "code",
   "execution_count": null,
   "metadata": {},
   "outputs": [
    {
     "data": {
      "application/javascript": "\n            setTimeout(function() {\n                var nbb_cell_id = 30;\n                var nbb_unformatted_code = \"cmp = cmp.merge(char_info[['characteristic', 'direction']], on='characteristic', how='left')\\ncmp['ret'] = cmp['ret'] * cmp['direction']\";\n                var nbb_formatted_code = \"cmp = cmp.merge(\\n    char_info[[\\\"characteristic\\\", \\\"direction\\\"]], on=\\\"characteristic\\\", how=\\\"left\\\"\\n)\\ncmp[\\\"ret\\\"] = cmp[\\\"ret\\\"] * cmp[\\\"direction\\\"]\";\n                var nbb_cells = Jupyter.notebook.get_cells();\n                for (var i = 0; i < nbb_cells.length; ++i) {\n                    if (nbb_cells[i].input_prompt_number == nbb_cell_id) {\n                        if (nbb_cells[i].get_text() == nbb_unformatted_code) {\n                             nbb_cells[i].set_text(nbb_formatted_code);\n                        }\n                        break;\n                    }\n                }\n            }, 500);\n            ",
      "text/plain": [
       "<IPython.core.display.Javascript object>"
      ]
     },
     "metadata": {},
     "output_type": "display_data"
    }
   ],
   "source": [
    "cmp = cmp.merge(char_info[['characteristic', 'direction']], on='characteristic', how='left')\n",
    "cmp['ret'] = cmp['ret'] * cmp['direction']"
   ]
  },
  {
   "cell_type": "code",
   "execution_count": null,
   "metadata": {},
   "outputs": [
    {
     "data": {
      "application/javascript": "\n            setTimeout(function() {\n                var nbb_cell_id = 31;\n                var nbb_unformatted_code = \"if cmp.duplicated(subset=['characteristic', 'excntry', 'size_grp', 'eom']).any():\\n    raise Warning(\\\"THE DATA HAS DUPLICATES\\\")\";\n                var nbb_formatted_code = \"if cmp.duplicated(subset=[\\\"characteristic\\\", \\\"excntry\\\", \\\"size_grp\\\", \\\"eom\\\"]).any():\\n    raise Warning(\\\"THE DATA HAS DUPLICATES\\\")\";\n                var nbb_cells = Jupyter.notebook.get_cells();\n                for (var i = 0; i < nbb_cells.length; ++i) {\n                    if (nbb_cells[i].input_prompt_number == nbb_cell_id) {\n                        if (nbb_cells[i].get_text() == nbb_unformatted_code) {\n                             nbb_cells[i].set_text(nbb_formatted_code);\n                        }\n                        break;\n                    }\n                }\n            }, 500);\n            ",
      "text/plain": [
       "<IPython.core.display.Javascript object>"
      ]
     },
     "metadata": {},
     "output_type": "display_data"
    }
   ],
   "source": [
    "if cmp.duplicated(subset=['characteristic', 'excntry', 'size_grp', 'eom']).any():\n",
    "    raise Warning(\"THE DATA HAS DUPLICATES\")"
   ]
  },
  {
   "cell_type": "code",
   "execution_count": null,
   "metadata": {},
   "outputs": [
    {
     "name": "stderr",
     "output_type": "stream",
     "text": [
      "100%|██████████| 6/6 [00:00<00:00, 21.23it/s]\n"
     ]
    },
    {
     "data": {
      "application/javascript": "\n            setTimeout(function() {\n                var nbb_cell_id = 37;\n                var nbb_unformatted_code = \"iter_list = []\\nfor key in tqdm(list(region_info.keys())):\\n    countries = region_info[key][\\\"country_codes\\\"]\\n    weighting = settings[\\\"country_weighting\\\"]\\n    countries_min = region_info[key][\\\"countries_min\\\"]\\n    months_min = settings[\\\"months_min\\\"]\\n    data = hml.copy()\\n    iter_list.append(\\n        {\\n            \\\"data\\\": cmp.copy(),\\n            \\\"market_returns\\\": market_returns.copy(), \\n            \\\"countries\\\": countries, \\n            \\\"weighting\\\": weighting, \\n            \\\"countries_min\\\": countries_min, \\n            \\\"months_min\\\": months_min, \\n            \\\"size_grps\\\": True, \\n        }\\n    )\";\n                var nbb_formatted_code = \"iter_list = []\\nfor key in tqdm(list(region_info.keys())):\\n    countries = region_info[key][\\\"country_codes\\\"]\\n    weighting = settings[\\\"country_weighting\\\"]\\n    countries_min = region_info[key][\\\"countries_min\\\"]\\n    months_min = settings[\\\"months_min\\\"]\\n    data = hml.copy()\\n    iter_list.append(\\n        {\\n            \\\"data\\\": cmp.copy(),\\n            \\\"market_returns\\\": market_returns.copy(),\\n            \\\"countries\\\": countries,\\n            \\\"weighting\\\": weighting,\\n            \\\"countries_min\\\": countries_min,\\n            \\\"months_min\\\": months_min,\\n            \\\"size_grps\\\": True,\\n        }\\n    )\";\n                var nbb_cells = Jupyter.notebook.get_cells();\n                for (var i = 0; i < nbb_cells.length; ++i) {\n                    if (nbb_cells[i].input_prompt_number == nbb_cell_id) {\n                        if (nbb_cells[i].get_text() == nbb_unformatted_code) {\n                             nbb_cells[i].set_text(nbb_formatted_code);\n                        }\n                        break;\n                    }\n                }\n            }, 500);\n            ",
      "text/plain": [
       "<IPython.core.display.Javascript object>"
      ]
     },
     "metadata": {},
     "output_type": "display_data"
    }
   ],
   "source": [
    "iter_list = []\n",
    "for key in tqdm(list(region_info.keys())):\n",
    "    countries = region_info[key][\"country_codes\"]\n",
    "    weighting = settings[\"country_weighting\"]\n",
    "    countries_min = region_info[key][\"countries_min\"]\n",
    "    months_min = settings[\"months_min\"]\n",
    "    data = hml.copy()\n",
    "    iter_list.append(\n",
    "        {\n",
    "            \"data\": cmp.copy(),\n",
    "            \"market_returns\": market_returns.copy(), \n",
    "            \"countries\": countries, \n",
    "            \"weighting\": weighting, \n",
    "            \"countries_min\": countries_min, \n",
    "            \"months_min\": months_min, \n",
    "            \"size_grps\": True, \n",
    "        }\n",
    "    )"
   ]
  },
  {
   "cell_type": "code",
   "execution_count": null,
   "metadata": {},
   "outputs": [
    {
     "name": "stderr",
     "output_type": "stream",
     "text": [
      "[Parallel(n_jobs=8)]: Using backend LokyBackend with 8 concurrent workers.\n",
      "[Parallel(n_jobs=8)]: Done   6 out of   6 | elapsed:  1.8min finished\n"
     ]
    },
    {
     "data": {
      "application/javascript": "\n            setTimeout(function() {\n                var nbb_cell_id = 38;\n                var nbb_unformatted_code = \"regional_pfs_cmp_list = parallel(delayed(regional_data)(**i) for i in iter_list)\";\n                var nbb_formatted_code = \"regional_pfs_cmp_list = parallel(delayed(regional_data)(**i) for i in iter_list)\";\n                var nbb_cells = Jupyter.notebook.get_cells();\n                for (var i = 0; i < nbb_cells.length; ++i) {\n                    if (nbb_cells[i].input_prompt_number == nbb_cell_id) {\n                        if (nbb_cells[i].get_text() == nbb_unformatted_code) {\n                             nbb_cells[i].set_text(nbb_formatted_code);\n                        }\n                        break;\n                    }\n                }\n            }, 500);\n            ",
      "text/plain": [
       "<IPython.core.display.Javascript object>"
      ]
     },
     "metadata": {},
     "output_type": "display_data"
    }
   ],
   "source": [
    "regional_pfs_cmp_list = parallel(delayed(regional_data)(**i) for i in iter_list)"
   ]
  },
  {
   "cell_type": "code",
   "execution_count": null,
   "metadata": {},
   "outputs": [
    {
     "data": {
      "application/javascript": "\n            setTimeout(function() {\n                var nbb_cell_id = 39;\n                var nbb_unformatted_code = \"regional_pfs_cmp = pd.concat(regional_pfs_cmp_list)\";\n                var nbb_formatted_code = \"regional_pfs_cmp = pd.concat(regional_pfs_cmp_list)\";\n                var nbb_cells = Jupyter.notebook.get_cells();\n                for (var i = 0; i < nbb_cells.length; ++i) {\n                    if (nbb_cells[i].input_prompt_number == nbb_cell_id) {\n                        if (nbb_cells[i].get_text() == nbb_unformatted_code) {\n                             nbb_cells[i].set_text(nbb_formatted_code);\n                        }\n                        break;\n                    }\n                }\n            }, 500);\n            ",
      "text/plain": [
       "<IPython.core.display.Javascript object>"
      ]
     },
     "metadata": {},
     "output_type": "display_data"
    }
   ],
   "source": [
    "regional_pfs_cmp = pd.concat(regional_pfs_cmp_list)"
   ]
  },
  {
   "cell_type": "code",
   "execution_count": null,
   "metadata": {},
   "outputs": [
    {
     "data": {
      "text/html": [
       "<div>\n",
       "<style scoped>\n",
       "    .dataframe tbody tr th:only-of-type {\n",
       "        vertical-align: middle;\n",
       "    }\n",
       "\n",
       "    .dataframe tbody tr th {\n",
       "        vertical-align: top;\n",
       "    }\n",
       "\n",
       "    .dataframe thead th {\n",
       "        text-align: right;\n",
       "    }\n",
       "</style>\n",
       "<table border=\"1\" class=\"dataframe\">\n",
       "  <thead>\n",
       "    <tr style=\"text-align: right;\">\n",
       "      <th></th>\n",
       "      <th>characteristic</th>\n",
       "      <th>size_grp</th>\n",
       "      <th>eom</th>\n",
       "      <th>n</th>\n",
       "      <th>ret</th>\n",
       "      <th>mkt_vw_exc</th>\n",
       "      <th>months</th>\n",
       "    </tr>\n",
       "  </thead>\n",
       "  <tbody>\n",
       "    <tr>\n",
       "      <th>656669</th>\n",
       "      <td>zero_trades_252d</td>\n",
       "      <td>small</td>\n",
       "      <td>2020-08-31</td>\n",
       "      <td>1</td>\n",
       "      <td>-0.004566</td>\n",
       "      <td>0.074068</td>\n",
       "      <td>5377</td>\n",
       "    </tr>\n",
       "    <tr>\n",
       "      <th>656670</th>\n",
       "      <td>zero_trades_252d</td>\n",
       "      <td>small</td>\n",
       "      <td>2020-09-30</td>\n",
       "      <td>1</td>\n",
       "      <td>-0.002624</td>\n",
       "      <td>-0.036228</td>\n",
       "      <td>5377</td>\n",
       "    </tr>\n",
       "    <tr>\n",
       "      <th>656671</th>\n",
       "      <td>zero_trades_252d</td>\n",
       "      <td>small</td>\n",
       "      <td>2020-10-31</td>\n",
       "      <td>1</td>\n",
       "      <td>0.025459</td>\n",
       "      <td>-0.020973</td>\n",
       "      <td>5377</td>\n",
       "    </tr>\n",
       "    <tr>\n",
       "      <th>656672</th>\n",
       "      <td>zero_trades_252d</td>\n",
       "      <td>small</td>\n",
       "      <td>2020-11-30</td>\n",
       "      <td>1</td>\n",
       "      <td>-0.130096</td>\n",
       "      <td>0.128030</td>\n",
       "      <td>5377</td>\n",
       "    </tr>\n",
       "    <tr>\n",
       "      <th>656673</th>\n",
       "      <td>zero_trades_252d</td>\n",
       "      <td>small</td>\n",
       "      <td>2020-12-31</td>\n",
       "      <td>1</td>\n",
       "      <td>-0.005767</td>\n",
       "      <td>0.046276</td>\n",
       "      <td>5377</td>\n",
       "    </tr>\n",
       "  </tbody>\n",
       "</table>\n",
       "</div>"
      ],
      "text/plain": [
       "          characteristic size_grp        eom  n       ret  mkt_vw_exc  months\n",
       "656669  zero_trades_252d    small 2020-08-31  1 -0.004566    0.074068    5377\n",
       "656670  zero_trades_252d    small 2020-09-30  1 -0.002624   -0.036228    5377\n",
       "656671  zero_trades_252d    small 2020-10-31  1  0.025459   -0.020973    5377\n",
       "656672  zero_trades_252d    small 2020-11-30  1 -0.130096    0.128030    5377\n",
       "656673  zero_trades_252d    small 2020-12-31  1 -0.005767    0.046276    5377"
      ]
     },
     "execution_count": 58,
     "metadata": {},
     "output_type": "execute_result"
    },
    {
     "data": {
      "application/javascript": "\n            setTimeout(function() {\n                var nbb_cell_id = 58;\n                var nbb_unformatted_code = \"regional_pfs_cmp.tail()\";\n                var nbb_formatted_code = \"regional_pfs_cmp.tail()\";\n                var nbb_cells = Jupyter.notebook.get_cells();\n                for (var i = 0; i < nbb_cells.length; ++i) {\n                    if (nbb_cells[i].input_prompt_number == nbb_cell_id) {\n                        if (nbb_cells[i].get_text() == nbb_unformatted_code) {\n                             nbb_cells[i].set_text(nbb_formatted_code);\n                        }\n                        break;\n                    }\n                }\n            }, 500);\n            ",
      "text/plain": [
       "<IPython.core.display.Javascript object>"
      ]
     },
     "metadata": {},
     "output_type": "display_data"
    }
   ],
   "source": [
    "regional_pfs_cmp.tail()"
   ]
  },
  {
   "cell_type": "code",
   "execution_count": null,
   "metadata": {},
   "outputs": [
    {
     "data": {
      "application/javascript": "\n            setTimeout(function() {\n                var nbb_cell_id = 59;\n                var nbb_unformatted_code = \"regional_pfs_cmp.to_parquet(\\\"result/regional_pfs_cmp.parquet\\\")\";\n                var nbb_formatted_code = \"regional_pfs_cmp.to_parquet(\\\"result/regional_pfs_cmp.parquet\\\")\";\n                var nbb_cells = Jupyter.notebook.get_cells();\n                for (var i = 0; i < nbb_cells.length; ++i) {\n                    if (nbb_cells[i].input_prompt_number == nbb_cell_id) {\n                        if (nbb_cells[i].get_text() == nbb_unformatted_code) {\n                             nbb_cells[i].set_text(nbb_formatted_code);\n                        }\n                        break;\n                    }\n                }\n            }, 500);\n            ",
      "text/plain": [
       "<IPython.core.display.Javascript object>"
      ]
     },
     "metadata": {},
     "output_type": "display_data"
    }
   ],
   "source": [
    "regional_pfs_cmp.to_parquet(save_path / \"regional_pfs_cmp.parquet\")"
   ]
  },
  {
   "cell_type": "markdown",
   "metadata": {},
   "source": [
    "## Regional Market Returns"
   ]
  },
  {
   "cell_type": "code",
   "execution_count": null,
   "metadata": {},
   "outputs": [
    {
     "name": "stderr",
     "output_type": "stream",
     "text": [
      "100%|██████████| 6/6 [00:00<00:00, 17.46it/s]\n"
     ]
    },
    {
     "data": {
      "application/javascript": "\n            setTimeout(function() {\n                var nbb_cell_id = 53;\n                var nbb_unformatted_code = \"regional_mkt_ret_list = []\\nfor key in tqdm(list(region_info.keys())):\\n    countries = region_info[key][\\\"country_codes\\\"]\\n    weighting = settings[\\\"country_weighting\\\"]\\n    countries_min = region_info[key][\\\"countries_min\\\"]\\n    months_min = settings[\\\"months_min\\\"]\\n\\n    __market_returns = market_returns.copy() \\n    __pf = __market_returns[__market_returns[\\\"excntry\\\"].isin(countries)].groupby('eom').agg(\\n        n=('mkt_vw_exc', 'size'),\\n        market=('mkt_vw_exc', lambda x: np.average(x, weights=market_returns.loc[x.index, 'me_lag1']))\\n    )\\n    __pf = __pf[__pf[\\\"n\\\"] >= countries_min] \\n    __pf = __pf.assign(regime=key) \\n    regional_mkt_ret_list.append(__pf)             \";\n                var nbb_formatted_code = \"regional_mkt_ret_list = []\\nfor key in tqdm(list(region_info.keys())):\\n    countries = region_info[key][\\\"country_codes\\\"]\\n    weighting = settings[\\\"country_weighting\\\"]\\n    countries_min = region_info[key][\\\"countries_min\\\"]\\n    months_min = settings[\\\"months_min\\\"]\\n\\n    __market_returns = market_returns.copy()\\n    __pf = (\\n        __market_returns[__market_returns[\\\"excntry\\\"].isin(countries)]\\n        .groupby(\\\"eom\\\")\\n        .agg(\\n            n=(\\\"mkt_vw_exc\\\", \\\"size\\\"),\\n            market=(\\n                \\\"mkt_vw_exc\\\",\\n                lambda x: np.average(x, weights=market_returns.loc[x.index, \\\"me_lag1\\\"]),\\n            ),\\n        )\\n    )\\n    __pf = __pf[__pf[\\\"n\\\"] >= countries_min]\\n    __pf = __pf.assign(regime=key)\\n    regional_mkt_ret_list.append(__pf)\";\n                var nbb_cells = Jupyter.notebook.get_cells();\n                for (var i = 0; i < nbb_cells.length; ++i) {\n                    if (nbb_cells[i].input_prompt_number == nbb_cell_id) {\n                        if (nbb_cells[i].get_text() == nbb_unformatted_code) {\n                             nbb_cells[i].set_text(nbb_formatted_code);\n                        }\n                        break;\n                    }\n                }\n            }, 500);\n            ",
      "text/plain": [
       "<IPython.core.display.Javascript object>"
      ]
     },
     "metadata": {},
     "output_type": "display_data"
    }
   ],
   "source": [
    "regional_mkt_ret_list = []\n",
    "for key in tqdm(list(region_info.keys())):\n",
    "    countries = region_info[key][\"country_codes\"]\n",
    "    weighting = settings[\"country_weighting\"]\n",
    "    countries_min = region_info[key][\"countries_min\"]\n",
    "    months_min = settings[\"months_min\"]\n",
    "\n",
    "    __market_returns = market_returns.copy() \n",
    "    __pf = __market_returns[__market_returns[\"excntry\"].isin(countries)].groupby('eom').agg(\n",
    "        n=('mkt_vw_exc', 'size'),\n",
    "        market=('mkt_vw_exc', lambda x: np.average(x, weights=market_returns.loc[x.index, 'me_lag1']))\n",
    "    )\n",
    "    __pf = __pf[__pf[\"n\"] >= countries_min] \n",
    "    __pf = __pf.assign(regime=key) \n",
    "    regional_mkt_ret_list.append(__pf)             "
   ]
  },
  {
   "cell_type": "code",
   "execution_count": null,
   "metadata": {},
   "outputs": [
    {
     "data": {
      "application/javascript": "\n            setTimeout(function() {\n                var nbb_cell_id = 54;\n                var nbb_unformatted_code = \"regional_mkt_ret = pd.concat(regional_mkt_ret_list)\";\n                var nbb_formatted_code = \"regional_mkt_ret = pd.concat(regional_mkt_ret_list)\";\n                var nbb_cells = Jupyter.notebook.get_cells();\n                for (var i = 0; i < nbb_cells.length; ++i) {\n                    if (nbb_cells[i].input_prompt_number == nbb_cell_id) {\n                        if (nbb_cells[i].get_text() == nbb_unformatted_code) {\n                             nbb_cells[i].set_text(nbb_formatted_code);\n                        }\n                        break;\n                    }\n                }\n            }, 500);\n            ",
      "text/plain": [
       "<IPython.core.display.Javascript object>"
      ]
     },
     "metadata": {},
     "output_type": "display_data"
    }
   ],
   "source": [
    "regional_mkt_ret = pd.concat(regional_mkt_ret_list)"
   ]
  },
  {
   "cell_type": "code",
   "execution_count": null,
   "metadata": {},
   "outputs": [
    {
     "data": {
      "application/javascript": "\n            setTimeout(function() {\n                var nbb_cell_id = 60;\n                var nbb_unformatted_code = \"regional_mkt_ret.to_parquet(\\\"result/regional_mkt_ret.parquet\\\")\";\n                var nbb_formatted_code = \"regional_mkt_ret.to_parquet(\\\"result/regional_mkt_ret.parquet\\\")\";\n                var nbb_cells = Jupyter.notebook.get_cells();\n                for (var i = 0; i < nbb_cells.length; ++i) {\n                    if (nbb_cells[i].input_prompt_number == nbb_cell_id) {\n                        if (nbb_cells[i].get_text() == nbb_unformatted_code) {\n                             nbb_cells[i].set_text(nbb_formatted_code);\n                        }\n                        break;\n                    }\n                }\n            }, 500);\n            ",
      "text/plain": [
       "<IPython.core.display.Javascript object>"
      ]
     },
     "metadata": {},
     "output_type": "display_data"
    }
   ],
   "source": [
    "regional_mkt_ret.to_parquet(save_path / \"regional_mkt_ret.parquet\")"
   ]
  },
  {
   "cell_type": "code",
   "execution_count": null,
   "metadata": {},
   "outputs": [],
   "source": []
  }
 ],
 "metadata": {
  "kernelspec": {
   "display_name": "finance",
   "language": "python",
   "name": "python3"
  },
  "language_info": {
   "codemirror_mode": {
    "name": "ipython",
    "version": 3
   },
   "file_extension": ".py",
   "mimetype": "text/x-python",
   "name": "python",
   "nbconvert_exporter": "python",
   "pygments_lexer": "ipython3",
   "version": "3.12.3"
  }
 },
 "nbformat": 4,
 "nbformat_minor": 2
}
